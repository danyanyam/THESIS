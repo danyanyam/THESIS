{
 "cells": [
  {
   "cell_type": "code",
   "execution_count": 157,
   "id": "d7c26709",
   "metadata": {},
   "outputs": [],
   "source": [
    "import json\n",
    "import numpy as np\n",
    "import pandas as pd\n",
    "import datetime as dt\n",
    "from pathlib import Path\n",
    "from tqdm.notebook import tqdm\n",
    "import matplotlib.pyplot as plt\n",
    "from scipy.stats import pearsonr\n",
    "from order_book import OrderBook\n",
    "from decimal import Decimal\n",
    "from probs import MidpriceUp, BidOrderExecution, MakingSpread, StopLossReaching"
   ]
  },
  {
   "cell_type": "code",
   "execution_count": 75,
   "id": "7ec19226",
   "metadata": {},
   "outputs": [],
   "source": [
    "data_path = Path('../data')"
   ]
  },
  {
   "cell_type": "markdown",
   "id": "7821e1c8",
   "metadata": {},
   "source": [
    "### How much data we have"
   ]
  },
  {
   "cell_type": "code",
   "execution_count": 8,
   "id": "517ca002",
   "metadata": {},
   "outputs": [],
   "source": [
    "files = []\n",
    "for fname in data_path.glob('*ws*'):\n",
    "    group = fname.name.split('.')[0]\n",
    "    files.append((group,  fname.stat().st_size / 1024**2))\n",
    "    \n",
    "files = pd.DataFrame(files, columns=['exchange', 'size'])"
   ]
  },
  {
   "cell_type": "code",
   "execution_count": 9,
   "id": "f81ed6e7",
   "metadata": {},
   "outputs": [
    {
     "data": {
      "text/html": [
       "<div>\n",
       "<style scoped>\n",
       "    .dataframe tbody tr th:only-of-type {\n",
       "        vertical-align: middle;\n",
       "    }\n",
       "\n",
       "    .dataframe tbody tr th {\n",
       "        vertical-align: top;\n",
       "    }\n",
       "\n",
       "    .dataframe thead th {\n",
       "        text-align: right;\n",
       "    }\n",
       "</style>\n",
       "<table border=\"1\" class=\"dataframe\">\n",
       "  <thead>\n",
       "    <tr style=\"text-align: right;\">\n",
       "      <th></th>\n",
       "      <th>size</th>\n",
       "    </tr>\n",
       "    <tr>\n",
       "      <th>exchange</th>\n",
       "      <th></th>\n",
       "    </tr>\n",
       "  </thead>\n",
       "  <tbody>\n",
       "    <tr>\n",
       "      <th>BINANCE</th>\n",
       "      <td>45.642381</td>\n",
       "    </tr>\n",
       "    <tr>\n",
       "      <th>BYBIT</th>\n",
       "      <td>140.271621</td>\n",
       "    </tr>\n",
       "    <tr>\n",
       "      <th>HUOBI</th>\n",
       "      <td>54.971219</td>\n",
       "    </tr>\n",
       "  </tbody>\n",
       "</table>\n",
       "</div>"
      ],
      "text/plain": [
       "                size\n",
       "exchange            \n",
       "BINANCE    45.642381\n",
       "BYBIT     140.271621\n",
       "HUOBI      54.971219"
      ]
     },
     "execution_count": 9,
     "metadata": {},
     "output_type": "execute_result"
    }
   ],
   "source": [
    "files.groupby('exchange').sum() / 1024  # in gb's"
   ]
  },
  {
   "cell_type": "markdown",
   "id": "cc2f49aa",
   "metadata": {},
   "source": [
    "### What data is about"
   ]
  },
  {
   "cell_type": "code",
   "execution_count": 76,
   "id": "f5b3f5ce",
   "metadata": {},
   "outputs": [],
   "source": [
    "binance = data_path.glob('BINANCE*')\n",
    "bybit = data_path.glob('BYBIT*')\n",
    "huobi = data_path.glob('HUOOBI*')"
   ]
  },
  {
   "cell_type": "code",
   "execution_count": 100,
   "id": "653c7fe8",
   "metadata": {},
   "outputs": [],
   "source": [
    "from tqdm import tqdm\n",
    "from src.parsers.bybit import BybitUpdateMessage\n",
    "from src.parsers.binance import BinanceUpdateMessage, Trade as BinanceTrade, Depth as BinanceDepth\n",
    "\n",
    "\n",
    "def is_trade(msg):\n",
    "    return isinstance(msg.payload, BinanceTrade)\n",
    "\n",
    "def is_depth(msg):\n",
    "    return isinstance(msg.payload, BinanceDepth)\n",
    "    \n",
    "    \n",
    "class Parser:\n",
    "    def __init__(self, source):\n",
    "        self.parser = BinanceUpdateMessage if source == 'binance' else \\\n",
    "            BybitUpdateMessage\n",
    "\n",
    "    def parse(self, message):\n",
    "        if message.startswith('wss'):\n",
    "            return None\n",
    "\n",
    "        return self.parser(raw=message)\n",
    "\n",
    "    def read(self, path):\n",
    "        results = []\n",
    "        with open(path, 'r') as f:\n",
    "            data = f.readlines()\n",
    "\n",
    "        for path in tqdm(data):\n",
    "            res = self.parse(path)\n",
    "\n",
    "            if res is None:\n",
    "                continue\n",
    "\n",
    "            results.append(res)\n",
    "\n",
    "        return results\n",
    "\n"
   ]
  },
  {
   "cell_type": "markdown",
   "id": "244b495e",
   "metadata": {},
   "source": [
    "#### binance"
   ]
  },
  {
   "cell_type": "code",
   "execution_count": 95,
   "id": "7a6df7bd",
   "metadata": {},
   "outputs": [
    {
     "name": "stderr",
     "output_type": "stream",
     "text": [
      "100%|███████████████████████████████████████████████████████████████████████████████████████████████████████████████████████████████████████████████| 260000/260000 [00:38<00:00, 6774.11it/s]\n"
     ]
    }
   ],
   "source": [
    "p = Parser('binance')\n",
    "\n",
    "binance = sorted(data_path.glob('BINANCE.ws*'), key=lambda x: int(x.suffix[1:]))\n",
    "\n",
    "# msgs = p.read('../data/BINANCE.ws.3.0')\n",
    "\n",
    "for path in binance:\n",
    "    msgs = p.read(path)\n",
    "    break\n",
    "#     trades = pd.DataFrame([msg.payload.data.dict() for msg in msgs if is_trade(msg)])\n",
    "#     trades.to_feather('processed/BINANCE.ws.3.0.feather')"
   ]
  },
  {
   "cell_type": "code",
   "execution_count": null,
   "id": "3455ed0e",
   "metadata": {},
   "outputs": [],
   "source": []
  },
  {
   "cell_type": "markdown",
   "id": "fe3beedf",
   "metadata": {},
   "source": [
    "We need:\n",
    "1. Indexes and sizes of Ask/Bid arrivals\n",
    "2. Size of market arrivals\n",
    "3. Indexes and sizes of cancels"
   ]
  },
  {
   "cell_type": "code",
   "execution_count": null,
   "id": "257940b0",
   "metadata": {},
   "outputs": [],
   "source": [
    "def is_ask_arrive(msg, ob):\n",
    "    ...\n",
    "    \n",
    "def is_bid_arrive(msg, ob):\n",
    "    ...\n",
    "    \n",
    "def is_ask_cancel(msg, ob):\n",
    "    ...\n",
    "    \n",
    "def is_bid_cancel(msg, ob):\n",
    "    ..."
   ]
  },
  {
   "cell_type": "code",
   "execution_count": 197,
   "id": "50ad88a3",
   "metadata": {},
   "outputs": [],
   "source": [
    "s = msgs[1]"
   ]
  },
  {
   "cell_type": "code",
   "execution_count": 226,
   "id": "5afeccf9",
   "metadata": {},
   "outputs": [
    {
     "data": {
      "text/plain": [
       "{Decimal('1863.76000000'): Decimal('1.27200000'),\n",
       " Decimal('1863.63000000'): Decimal('14.32540000'),\n",
       " Decimal('1863.59000000'): Decimal('0.48340000'),\n",
       " Decimal('1677.60000000'): Decimal('0E-8')}"
      ]
     },
     "execution_count": 226,
     "metadata": {},
     "output_type": "execute_result"
    }
   ],
   "source": [
    "new_sizes"
   ]
  },
  {
   "cell_type": "code",
   "execution_count": 227,
   "id": "f688813a",
   "metadata": {},
   "outputs": [],
   "source": [
    "new_sizes = s.payload.data.asks"
   ]
  },
  {
   "cell_type": "code",
   "execution_count": 229,
   "id": "03c2a711",
   "metadata": {},
   "outputs": [],
   "source": [
    "arrivals = []\n",
    "\n",
    "\n",
    "for price, size in new_sizes:\n",
    "    \n",
    "    try:\n",
    "        existing = ob.asks[price]\n",
    "        delta = size - existing\n",
    "        \n",
    "        if delta > 0:\n",
    "            arrivals.append()\n",
    "            # ask arrival\n",
    "            # detect index\n",
    "            ...\n",
    "        \n",
    "        elif delta < 0:\n",
    "            # ask cancel\n",
    "            # detect index\n",
    "            ...\n",
    "            \n",
    "    except KeyError:\n",
    "        delta = None\n",
    "        \n",
    "        # ask arrival\n",
    "        # detect index (not zero)\n",
    "        ob.asks[price] = ize\n",
    "        "
   ]
  },
  {
   "cell_type": "code",
   "execution_count": 223,
   "id": "2f7125f6",
   "metadata": {},
   "outputs": [],
   "source": [
    "distance_map = dict(zip(ob.asks.keys(), range(len(ob.asks.to_list()))))"
   ]
  },
  {
   "cell_type": "code",
   "execution_count": null,
   "id": "b8090be0",
   "metadata": {},
   "outputs": [],
   "source": []
  },
  {
   "cell_type": "code",
   "execution_count": 236,
   "id": "e5354890",
   "metadata": {},
   "outputs": [],
   "source": [
    "from enum import Enum\n",
    "\n",
    "class Side(Enum):\n",
    "    BUY = 'Buy'\n",
    "    SELL = 'Sell'\n",
    "    NONE = None\n",
    "\n"
   ]
  },
  {
   "cell_type": "code",
   "execution_count": 237,
   "id": "2fd99d50",
   "metadata": {},
   "outputs": [
    {
     "data": {
      "text/plain": [
       "<Side.NONE: None>"
      ]
     },
     "execution_count": 237,
     "metadata": {},
     "output_type": "execute_result"
    }
   ],
   "source": [
    "Side(None)"
   ]
  },
  {
   "cell_type": "code",
   "execution_count": 235,
   "id": "13b396ca",
   "metadata": {},
   "outputs": [
    {
     "data": {
      "text/plain": [
       "(Decimal('1863.76000000'), Decimal('1.27200000'))"
      ]
     },
     "execution_count": 235,
     "metadata": {},
     "output_type": "execute_result"
    }
   ],
   "source": [
    "ob.bids.index(0)"
   ]
  },
  {
   "cell_type": "code",
   "execution_count": null,
   "id": "c8933268",
   "metadata": {},
   "outputs": [],
   "source": []
  },
  {
   "cell_type": "code",
   "execution_count": null,
   "id": "930dee7f",
   "metadata": {},
   "outputs": [],
   "source": []
  },
  {
   "cell_type": "code",
   "execution_count": null,
   "id": "0dbc5419",
   "metadata": {},
   "outputs": [],
   "source": []
  },
  {
   "cell_type": "code",
   "execution_count": null,
   "id": "71c3ecb7",
   "metadata": {},
   "outputs": [],
   "source": []
  },
  {
   "cell_type": "code",
   "execution_count": null,
   "id": "3a277cbf",
   "metadata": {},
   "outputs": [],
   "source": []
  },
  {
   "cell_type": "code",
   "execution_count": 133,
   "id": "57c89387",
   "metadata": {},
   "outputs": [
    {
     "name": "stderr",
     "output_type": "stream",
     "text": [
      "  0%|                                                                                                                                                    | 1/259999 [00:00<00:41, 6241.52it/s]\n"
     ]
    }
   ],
   "source": [
    "ob = OrderBook()\n",
    "\n",
    "ask_arrivals = []\n",
    "bid_arrivals = []\n",
    "ask_cancels = []\n",
    "bid_cancels = []\n",
    "market = []\n",
    "\n",
    "for msg in tqdm(msgs):\n",
    "    \n",
    "    if is_trade(msg):\n",
    "        market.append(msg.payload.data.quantity)\n",
    "    \n",
    "    if is_depth(msg):\n",
    "        # if ask increased -> add ask size and remember index  \n",
    "        if is_ask_arrive(msg, ob):\n",
    "            ...\n",
    "\n",
    "        # if bid increased -> add bid size and remember index\n",
    "        if is_bid_arrive(msg, ob):\n",
    "            ...\n",
    "            \n",
    "        # if ask decreased -> add ask cancels and remember index\n",
    "        if is_ask_cancel(msg, ob):\n",
    "            ...\n",
    "            \n",
    "        # if bid decreased -> add bid cancels and remember index\n",
    "        if is_bid_cancel(msg, ob):\n",
    "            ...\n",
    "        \n",
    "        \n",
    "        \n"
   ]
  },
  {
   "cell_type": "code",
   "execution_count": 147,
   "id": "87063138",
   "metadata": {},
   "outputs": [],
   "source": [
    "ob.asks = dict(msg.payload.data.asks)"
   ]
  },
  {
   "cell_type": "code",
   "execution_count": 190,
   "id": "b54a9340",
   "metadata": {},
   "outputs": [
    {
     "data": {
      "text/plain": [
       "False"
      ]
     },
     "execution_count": 190,
     "metadata": {},
     "output_type": "execute_result"
    }
   ],
   "source": []
  },
  {
   "cell_type": "code",
   "execution_count": 188,
   "id": "c4223265",
   "metadata": {},
   "outputs": [
    {
     "data": {
      "text/plain": [
       "{Decimal('1677.60000000'): Decimal('0E-8'),\n",
       " Decimal('1863.59000000'): Decimal('0.48340000'),\n",
       " Decimal('1863.63000000'): Decimal('14.32540000'),\n",
       " Decimal('1863.76000000'): Decimal('1.27200000')}"
      ]
     },
     "execution_count": 188,
     "metadata": {},
     "output_type": "execute_result"
    }
   ],
   "source": [
    "ob.asks.to_dict()"
   ]
  },
  {
   "cell_type": "code",
   "execution_count": 150,
   "id": "1e0f81eb",
   "metadata": {},
   "outputs": [],
   "source": [
    "ob.bids = dict(msg.payload.data.bids)"
   ]
  },
  {
   "cell_type": "code",
   "execution_count": 161,
   "id": "0d835575",
   "metadata": {},
   "outputs": [
    {
     "data": {
      "text/plain": [
       "{'event_type': 'aggTrade',\n",
       " 'event_time': datetime.datetime(2023, 4, 6, 13, 34, 34, 489000, tzinfo=datetime.timezone.utc),\n",
       " 'symbol': 'ETHUSDT',\n",
       " 'agg_trade_id': 880496927,\n",
       " 'price': 1864.1,\n",
       " 'quantity': 0.0057,\n",
       " 'first_trade_id': 1123675678,\n",
       " 'last_trade_id': 1123675678,\n",
       " 'trade_time': datetime.datetime(2023, 4, 6, 13, 34, 34, 489000, tzinfo=datetime.timezone.utc),\n",
       " 'is_market_maker': False,\n",
       " 'is_ignore': True}"
      ]
     },
     "execution_count": 161,
     "metadata": {},
     "output_type": "execute_result"
    }
   ],
   "source": [
    "msgs[0].payload.data.dict()"
   ]
  },
  {
   "cell_type": "code",
   "execution_count": 170,
   "id": "83284f6b",
   "metadata": {},
   "outputs": [
    {
     "data": {
      "text/plain": [
       "{'event_type': 'depthUpdate',\n",
       " 'event_time': datetime.datetime(2023, 4, 6, 13, 34, 34, 504000, tzinfo=datetime.timezone.utc),\n",
       " 'symbol': 'ETHUSDT',\n",
       " 'first_update_id': 24470108730,\n",
       " 'last_update_id': 24470108745,\n",
       " 'bids': [[Decimal('1863.76000000'), Decimal('1.27200000')],\n",
       "  [Decimal('1863.63000000'), Decimal('14.32540000')],\n",
       "  [Decimal('1863.59000000'), Decimal('0.48340000')],\n",
       "  [Decimal('1677.60000000'), Decimal('0E-8')]],\n",
       " 'asks': [[Decimal('1863.76000000'), Decimal('1.27200000')],\n",
       "  [Decimal('1863.63000000'), Decimal('14.32540000')],\n",
       "  [Decimal('1863.59000000'), Decimal('0.48340000')],\n",
       "  [Decimal('1677.60000000'), Decimal('0E-8')]]}"
      ]
     },
     "execution_count": 170,
     "metadata": {},
     "output_type": "execute_result"
    }
   ],
   "source": [
    "msgs[1].payload.data.dict()"
   ]
  },
  {
   "cell_type": "code",
   "execution_count": 174,
   "id": "140b6d03",
   "metadata": {},
   "outputs": [
    {
     "data": {
      "text/plain": [
       "{'event_type': 'aggTrade',\n",
       " 'event_time': datetime.datetime(2023, 4, 6, 13, 34, 34, 584000, tzinfo=datetime.timezone.utc),\n",
       " 'symbol': 'ETHUSDT',\n",
       " 'agg_trade_id': 880496928,\n",
       " 'price': 1864.1,\n",
       " 'quantity': 0.0054,\n",
       " 'first_trade_id': 1123675679,\n",
       " 'last_trade_id': 1123675679,\n",
       " 'trade_time': datetime.datetime(2023, 4, 6, 13, 34, 34, 584000, tzinfo=datetime.timezone.utc),\n",
       " 'is_market_maker': False,\n",
       " 'is_ignore': True}"
      ]
     },
     "execution_count": 174,
     "metadata": {},
     "output_type": "execute_result"
    }
   ],
   "source": [
    "msgs[5].payload.data.dict()"
   ]
  },
  {
   "cell_type": "code",
   "execution_count": 182,
   "id": "556b3607",
   "metadata": {},
   "outputs": [
    {
     "data": {
      "text/plain": [
       "{'event_type': 'depthUpdate',\n",
       " 'event_time': datetime.datetime(2023, 4, 6, 13, 34, 34, 604000, tzinfo=datetime.timezone.utc),\n",
       " 'symbol': 'ETHUSDT',\n",
       " 'first_update_id': 24470108746,\n",
       " 'last_update_id': 24470108756,\n",
       " 'bids': [[Decimal('1863.77000000'), Decimal('0E-8')],\n",
       "  [Decimal('1863.27000000'), Decimal('5.22210000')],\n",
       "  [Decimal('1804.09000000'), Decimal('0.05600000')],\n",
       "  [Decimal('1677.60000000'), Decimal('0E-8')]],\n",
       " 'asks': [[Decimal('1863.77000000'), Decimal('0E-8')],\n",
       "  [Decimal('1863.27000000'), Decimal('5.22210000')],\n",
       "  [Decimal('1804.09000000'), Decimal('0.05600000')],\n",
       "  [Decimal('1677.60000000'), Decimal('0E-8')]]}"
      ]
     },
     "execution_count": 182,
     "metadata": {},
     "output_type": "execute_result"
    }
   ],
   "source": [
    "msgs[6].payload.data.dict()"
   ]
  },
  {
   "cell_type": "code",
   "execution_count": 181,
   "id": "a0af5c83",
   "metadata": {},
   "outputs": [
    {
     "data": {
      "text/plain": [
       "{'event_type': 'depthUpdate',\n",
       " 'event_time': datetime.datetime(2023, 4, 6, 13, 34, 34, 704000, tzinfo=datetime.timezone.utc),\n",
       " 'symbol': 'ETHUSDT',\n",
       " 'first_update_id': 24470108757,\n",
       " 'last_update_id': 24470108774,\n",
       " 'bids': [[Decimal('1864.09000000'), Decimal('62.20950000')],\n",
       "  [Decimal('1864.07000000'), Decimal('0.10870000')],\n",
       "  [Decimal('1863.86000000'), Decimal('0.27920000')],\n",
       "  [Decimal('1863.85000000'), Decimal('0.24410000')],\n",
       "  [Decimal('1863.56000000'), Decimal('12.88890000')],\n",
       "  [Decimal('1863.11000000'), Decimal('1.20070000')]],\n",
       " 'asks': [[Decimal('1864.09000000'), Decimal('62.20950000')],\n",
       "  [Decimal('1864.07000000'), Decimal('0.10870000')],\n",
       "  [Decimal('1863.86000000'), Decimal('0.27920000')],\n",
       "  [Decimal('1863.85000000'), Decimal('0.24410000')],\n",
       "  [Decimal('1863.56000000'), Decimal('12.88890000')],\n",
       "  [Decimal('1863.11000000'), Decimal('1.20070000')]]}"
      ]
     },
     "execution_count": 181,
     "metadata": {},
     "output_type": "execute_result"
    }
   ],
   "source": [
    "msgs[13].payload.data.dict()"
   ]
  },
  {
   "cell_type": "code",
   "execution_count": 156,
   "id": "a3f017aa",
   "metadata": {},
   "outputs": [
    {
     "data": {
      "text/plain": [
       "Decimal('0E-8')"
      ]
     },
     "execution_count": 156,
     "metadata": {},
     "output_type": "execute_result"
    }
   ],
   "source": [
    "ob.asks[Decimal('1677.60000000')]"
   ]
  },
  {
   "cell_type": "code",
   "execution_count": 149,
   "id": "0f5e8859",
   "metadata": {},
   "outputs": [
    {
     "data": {
      "text/plain": [
       "{'bid': {},\n",
       " 'ask': {Decimal('1677.60000000'): Decimal('0E-8'),\n",
       "  Decimal('1863.59000000'): Decimal('0.48340000'),\n",
       "  Decimal('1863.63000000'): Decimal('14.32540000'),\n",
       "  Decimal('1863.76000000'): Decimal('1.27200000')}}"
      ]
     },
     "execution_count": 149,
     "metadata": {},
     "output_type": "execute_result"
    }
   ],
   "source": [
    "ob.to_dict()"
   ]
  },
  {
   "cell_type": "code",
   "execution_count": 138,
   "id": "e348d281",
   "metadata": {},
   "outputs": [
    {
     "data": {
      "text/plain": [
       "[[Decimal('1863.76000000'), Decimal('1.27200000')],\n",
       " [Decimal('1863.63000000'), Decimal('14.32540000')],\n",
       " [Decimal('1863.59000000'), Decimal('0.48340000')],\n",
       " [Decimal('1677.60000000'), Decimal('0E-8')]]"
      ]
     },
     "execution_count": 138,
     "metadata": {},
     "output_type": "execute_result"
    }
   ],
   "source": [
    "msg.payload.data.bids"
   ]
  },
  {
   "cell_type": "code",
   "execution_count": 132,
   "id": "a1565569",
   "metadata": {},
   "outputs": [
    {
     "data": {
      "text/plain": [
       "[0.0057, 0.01783, 0.00907, 0.0054, 0.00141]"
      ]
     },
     "execution_count": 132,
     "metadata": {},
     "output_type": "execute_result"
    }
   ],
   "source": [
    "market[:5]"
   ]
  },
  {
   "cell_type": "code",
   "execution_count": 129,
   "id": "b5466028",
   "metadata": {},
   "outputs": [
    {
     "data": {
      "text/plain": [
       "0.0057"
      ]
     },
     "execution_count": 129,
     "metadata": {},
     "output_type": "execute_result"
    }
   ],
   "source": [
    "msg.payload.data.quantity"
   ]
  },
  {
   "cell_type": "code",
   "execution_count": 120,
   "id": "d3b9a5e7",
   "metadata": {},
   "outputs": [
    {
     "data": {
      "text/plain": [
       "Trade(stream='ethusdt@aggTrade', data=TradeData(event_type='aggTrade', event_time=datetime.datetime(2023, 4, 6, 13, 34, 34, 489000, tzinfo=datetime.timezone.utc), symbol='ETHUSDT', agg_trade_id=880496927, price=1864.1, quantity=0.0057, first_trade_id=1123675678, last_trade_id=1123675678, trade_time=datetime.datetime(2023, 4, 6, 13, 34, 34, 489000, tzinfo=datetime.timezone.utc), is_market_maker=False, is_ignore=True))"
      ]
     },
     "execution_count": 120,
     "metadata": {},
     "output_type": "execute_result"
    }
   ],
   "source": [
    "msg.payload"
   ]
  },
  {
   "cell_type": "code",
   "execution_count": 106,
   "id": "aa7f1633",
   "metadata": {},
   "outputs": [
    {
     "name": "stdout",
     "output_type": "stream",
     "text": [
      "total 29M\r\n",
      "-rw-rw-r-- 1 danya danya 342K May  6 13:04 al.png\r\n",
      "-rw-rw-r-- 1 danya danya 454K Apr  6 22:48 data-observation.ipynb\r\n",
      "-rw-rw-r-- 1 danya danya  42K May  6 21:38 parsing-data-new.ipynb\r\n",
      "-rw-rw-r-- 1 danya danya 826K May  6 19:29 parsing-raw.ipynb\r\n",
      "-rw-rw-r-- 1 danya danya  17K Apr  7 02:25 probs.py\r\n",
      "drwxrwxr-x 2 danya danya 4.0K May  6 20:30 processed\r\n",
      "drwxrwxr-x 2 danya danya 4.0K May  6 20:17 __pycache__\r\n",
      "-rw-rw-r-- 1 danya danya  27M May  6 21:37 test.feather\r\n"
     ]
    }
   ],
   "source": [
    "!ls -lh"
   ]
  },
  {
   "cell_type": "code",
   "execution_count": 107,
   "id": "13547911",
   "metadata": {},
   "outputs": [],
   "source": [
    "snaps = pd.read_feather('test.feather')"
   ]
  },
  {
   "cell_type": "code",
   "execution_count": 110,
   "id": "ab08d51c",
   "metadata": {},
   "outputs": [
    {
     "data": {
      "text/plain": [
       "array([array([Decimal('1863.76000000'), Decimal('1.27200000')], dtype=object),\n",
       "       array([Decimal('1863.63000000'), Decimal('14.32540000')], dtype=object),\n",
       "       array([Decimal('1863.59000000'), Decimal('0.48340000')], dtype=object),\n",
       "       array([Decimal('1677.60000000'), Decimal('0E-8')], dtype=object)],\n",
       "      dtype=object)"
      ]
     },
     "execution_count": 110,
     "metadata": {},
     "output_type": "execute_result"
    }
   ],
   "source": [
    "snaps['bids'][0]"
   ]
  },
  {
   "cell_type": "code",
   "execution_count": 112,
   "id": "cb5c539c",
   "metadata": {},
   "outputs": [
    {
     "data": {
      "text/html": [
       "<div>\n",
       "<style scoped>\n",
       "    .dataframe tbody tr th:only-of-type {\n",
       "        vertical-align: middle;\n",
       "    }\n",
       "\n",
       "    .dataframe tbody tr th {\n",
       "        vertical-align: top;\n",
       "    }\n",
       "\n",
       "    .dataframe thead th {\n",
       "        text-align: right;\n",
       "    }\n",
       "</style>\n",
       "<table border=\"1\" class=\"dataframe\">\n",
       "  <thead>\n",
       "    <tr style=\"text-align: right;\">\n",
       "      <th></th>\n",
       "      <th>event_type</th>\n",
       "      <th>event_time</th>\n",
       "      <th>symbol</th>\n",
       "      <th>first_update_id</th>\n",
       "      <th>last_update_id</th>\n",
       "      <th>bids</th>\n",
       "      <th>asks</th>\n",
       "    </tr>\n",
       "  </thead>\n",
       "  <tbody>\n",
       "    <tr>\n",
       "      <th>0</th>\n",
       "      <td>depthUpdate</td>\n",
       "      <td>2023-04-06 13:34:34.504000+00:00</td>\n",
       "      <td>ETHUSDT</td>\n",
       "      <td>24470108730</td>\n",
       "      <td>24470108745</td>\n",
       "      <td>[[1863.76000000, 1.27200000], [1863.63000000, ...</td>\n",
       "      <td>[[1863.76000000, 1.27200000], [1863.63000000, ...</td>\n",
       "    </tr>\n",
       "    <tr>\n",
       "      <th>1</th>\n",
       "      <td>depthUpdate</td>\n",
       "      <td>2023-04-06 13:34:34.504000+00:00</td>\n",
       "      <td>BTCUSDT</td>\n",
       "      <td>36116025446</td>\n",
       "      <td>36116025473</td>\n",
       "      <td>[[27891.64000000, 5.63617000], [27891.58000000...</td>\n",
       "      <td>[[27891.64000000, 5.63617000], [27891.58000000...</td>\n",
       "    </tr>\n",
       "    <tr>\n",
       "      <th>2</th>\n",
       "      <td>depthUpdate</td>\n",
       "      <td>2023-04-06 13:34:34.604000+00:00</td>\n",
       "      <td>ETHUSDT</td>\n",
       "      <td>24470108746</td>\n",
       "      <td>24470108756</td>\n",
       "      <td>[[1863.77000000, 0E-8], [1863.27000000, 5.2221...</td>\n",
       "      <td>[[1863.77000000, 0E-8], [1863.27000000, 5.2221...</td>\n",
       "    </tr>\n",
       "    <tr>\n",
       "      <th>3</th>\n",
       "      <td>depthUpdate</td>\n",
       "      <td>2023-04-06 13:34:34.604000+00:00</td>\n",
       "      <td>BTCUSDT</td>\n",
       "      <td>36116025474</td>\n",
       "      <td>36116025493</td>\n",
       "      <td>[[27891.64000000, 5.61834000], [27891.60000000...</td>\n",
       "      <td>[[27891.64000000, 5.61834000], [27891.60000000...</td>\n",
       "    </tr>\n",
       "    <tr>\n",
       "      <th>4</th>\n",
       "      <td>depthUpdate</td>\n",
       "      <td>2023-04-06 13:34:34.604000+00:00</td>\n",
       "      <td>EOSUSDT</td>\n",
       "      <td>6249308425</td>\n",
       "      <td>6249308425</td>\n",
       "      <td>[[1.21700000, 49100.00000000]]</td>\n",
       "      <td>[[1.21700000, 49100.00000000]]</td>\n",
       "    </tr>\n",
       "    <tr>\n",
       "      <th>...</th>\n",
       "      <td>...</td>\n",
       "      <td>...</td>\n",
       "      <td>...</td>\n",
       "      <td>...</td>\n",
       "      <td>...</td>\n",
       "      <td>...</td>\n",
       "      <td>...</td>\n",
       "    </tr>\n",
       "    <tr>\n",
       "      <th>142580</th>\n",
       "      <td>depthUpdate</td>\n",
       "      <td>2023-04-06 14:40:10.720000+00:00</td>\n",
       "      <td>ETHUSDT</td>\n",
       "      <td>24471440885</td>\n",
       "      <td>24471440903</td>\n",
       "      <td>[[1865.49000000, 86.98320000], [1864.71000000,...</td>\n",
       "      <td>[[1865.49000000, 86.98320000], [1864.71000000,...</td>\n",
       "    </tr>\n",
       "    <tr>\n",
       "      <th>142581</th>\n",
       "      <td>depthUpdate</td>\n",
       "      <td>2023-04-06 14:40:10.820000+00:00</td>\n",
       "      <td>ETHUSDT</td>\n",
       "      <td>24471440904</td>\n",
       "      <td>24471440923</td>\n",
       "      <td>[[1865.49000000, 77.02210000], [1864.47000000,...</td>\n",
       "      <td>[[1865.49000000, 77.02210000], [1864.47000000,...</td>\n",
       "    </tr>\n",
       "    <tr>\n",
       "      <th>142582</th>\n",
       "      <td>depthUpdate</td>\n",
       "      <td>2023-04-06 14:40:10.820000+00:00</td>\n",
       "      <td>BTCUSDT</td>\n",
       "      <td>36117323489</td>\n",
       "      <td>36117323504</td>\n",
       "      <td>[[27929.46000000, 4.44046000], [27927.42000000...</td>\n",
       "      <td>[[27929.46000000, 4.44046000], [27927.42000000...</td>\n",
       "    </tr>\n",
       "    <tr>\n",
       "      <th>142583</th>\n",
       "      <td>depthUpdate</td>\n",
       "      <td>2023-04-06 14:40:10.820000+00:00</td>\n",
       "      <td>LINKUSDT</td>\n",
       "      <td>7606632804</td>\n",
       "      <td>7606632804</td>\n",
       "      <td>[]</td>\n",
       "      <td>[]</td>\n",
       "    </tr>\n",
       "    <tr>\n",
       "      <th>142584</th>\n",
       "      <td>depthUpdate</td>\n",
       "      <td>2023-04-06 14:40:10.820000+00:00</td>\n",
       "      <td>BNBUSDT</td>\n",
       "      <td>8417425833</td>\n",
       "      <td>8417425835</td>\n",
       "      <td>[]</td>\n",
       "      <td>[]</td>\n",
       "    </tr>\n",
       "  </tbody>\n",
       "</table>\n",
       "<p>142585 rows × 7 columns</p>\n",
       "</div>"
      ],
      "text/plain": [
       "         event_type                       event_time    symbol   \n",
       "0       depthUpdate 2023-04-06 13:34:34.504000+00:00   ETHUSDT  \\\n",
       "1       depthUpdate 2023-04-06 13:34:34.504000+00:00   BTCUSDT   \n",
       "2       depthUpdate 2023-04-06 13:34:34.604000+00:00   ETHUSDT   \n",
       "3       depthUpdate 2023-04-06 13:34:34.604000+00:00   BTCUSDT   \n",
       "4       depthUpdate 2023-04-06 13:34:34.604000+00:00   EOSUSDT   \n",
       "...             ...                              ...       ...   \n",
       "142580  depthUpdate 2023-04-06 14:40:10.720000+00:00   ETHUSDT   \n",
       "142581  depthUpdate 2023-04-06 14:40:10.820000+00:00   ETHUSDT   \n",
       "142582  depthUpdate 2023-04-06 14:40:10.820000+00:00   BTCUSDT   \n",
       "142583  depthUpdate 2023-04-06 14:40:10.820000+00:00  LINKUSDT   \n",
       "142584  depthUpdate 2023-04-06 14:40:10.820000+00:00   BNBUSDT   \n",
       "\n",
       "        first_update_id  last_update_id   \n",
       "0           24470108730     24470108745  \\\n",
       "1           36116025446     36116025473   \n",
       "2           24470108746     24470108756   \n",
       "3           36116025474     36116025493   \n",
       "4            6249308425      6249308425   \n",
       "...                 ...             ...   \n",
       "142580      24471440885     24471440903   \n",
       "142581      24471440904     24471440923   \n",
       "142582      36117323489     36117323504   \n",
       "142583       7606632804      7606632804   \n",
       "142584       8417425833      8417425835   \n",
       "\n",
       "                                                     bids   \n",
       "0       [[1863.76000000, 1.27200000], [1863.63000000, ...  \\\n",
       "1       [[27891.64000000, 5.63617000], [27891.58000000...   \n",
       "2       [[1863.77000000, 0E-8], [1863.27000000, 5.2221...   \n",
       "3       [[27891.64000000, 5.61834000], [27891.60000000...   \n",
       "4                          [[1.21700000, 49100.00000000]]   \n",
       "...                                                   ...   \n",
       "142580  [[1865.49000000, 86.98320000], [1864.71000000,...   \n",
       "142581  [[1865.49000000, 77.02210000], [1864.47000000,...   \n",
       "142582  [[27929.46000000, 4.44046000], [27927.42000000...   \n",
       "142583                                                 []   \n",
       "142584                                                 []   \n",
       "\n",
       "                                                     asks  \n",
       "0       [[1863.76000000, 1.27200000], [1863.63000000, ...  \n",
       "1       [[27891.64000000, 5.63617000], [27891.58000000...  \n",
       "2       [[1863.77000000, 0E-8], [1863.27000000, 5.2221...  \n",
       "3       [[27891.64000000, 5.61834000], [27891.60000000...  \n",
       "4                          [[1.21700000, 49100.00000000]]  \n",
       "...                                                   ...  \n",
       "142580  [[1865.49000000, 86.98320000], [1864.71000000,...  \n",
       "142581  [[1865.49000000, 77.02210000], [1864.47000000,...  \n",
       "142582  [[27929.46000000, 4.44046000], [27927.42000000...  \n",
       "142583                                                 []  \n",
       "142584                                                 []  \n",
       "\n",
       "[142585 rows x 7 columns]"
      ]
     },
     "execution_count": 112,
     "metadata": {},
     "output_type": "execute_result"
    }
   ],
   "source": [
    "snaps"
   ]
  },
  {
   "cell_type": "code",
   "execution_count": 93,
   "id": "cdbd0317",
   "metadata": {},
   "outputs": [
    {
     "data": {
      "text/plain": [
       "'BINANCE.ws.3.0_trades'"
      ]
     },
     "execution_count": 93,
     "metadata": {},
     "output_type": "execute_result"
    }
   ],
   "source": [
    "p.name + '_trades'"
   ]
  },
  {
   "cell_type": "code",
   "execution_count": 49,
   "id": "a79d5ce6",
   "metadata": {},
   "outputs": [],
   "source": []
  },
  {
   "cell_type": "code",
   "execution_count": 61,
   "id": "5d1d3df7",
   "metadata": {},
   "outputs": [],
   "source": [
    "!mkdir processed"
   ]
  },
  {
   "cell_type": "code",
   "execution_count": 63,
   "id": "ad3958fd",
   "metadata": {},
   "outputs": [],
   "source": []
  },
  {
   "cell_type": "code",
   "execution_count": null,
   "id": "a4222c52",
   "metadata": {},
   "outputs": [],
   "source": []
  },
  {
   "cell_type": "code",
   "execution_count": null,
   "id": "fb71c7f7",
   "metadata": {},
   "outputs": [],
   "source": []
  }
 ],
 "metadata": {
  "kernelspec": {
   "display_name": "Python 3 (ipykernel)",
   "language": "python",
   "name": "python3"
  },
  "language_info": {
   "codemirror_mode": {
    "name": "ipython",
    "version": 3
   },
   "file_extension": ".py",
   "mimetype": "text/x-python",
   "name": "python",
   "nbconvert_exporter": "python",
   "pygments_lexer": "ipython3",
   "version": "3.10.10"
  }
 },
 "nbformat": 4,
 "nbformat_minor": 5
}
