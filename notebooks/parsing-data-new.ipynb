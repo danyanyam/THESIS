{
 "cells": [
  {
   "cell_type": "code",
   "execution_count": 12,
   "id": "d7c26709",
   "metadata": {},
   "outputs": [],
   "source": [
    "import json\n",
    "import numpy as np\n",
    "import pandas as pd\n",
    "import datetime as dt\n",
    "from pathlib import Path\n",
    "from tqdm.notebook import tqdm\n",
    "import matplotlib.pyplot as plt\n",
    "from scipy.stats import pearsonr\n",
    "from order_book import OrderBook\n",
    "from decimal import Decimal\n",
    "from probs import MidpriceUp, BidOrderExecution, MakingSpread, StopLossReaching"
   ]
  },
  {
   "cell_type": "code",
   "execution_count": 13,
   "id": "7ec19226",
   "metadata": {},
   "outputs": [],
   "source": [
    "data_path = Path('../data')"
   ]
  },
  {
   "cell_type": "markdown",
   "id": "7821e1c8",
   "metadata": {},
   "source": [
    "### How much data we have"
   ]
  },
  {
   "cell_type": "code",
   "execution_count": 3,
   "id": "517ca002",
   "metadata": {},
   "outputs": [],
   "source": [
    "files = []\n",
    "for fname in data_path.glob('*ws*'):\n",
    "    group = fname.name.split('.')[0]\n",
    "    files.append((group,  fname.stat().st_size / 1024**2))\n",
    "    \n",
    "files = pd.DataFrame(files, columns=['exchange', 'size'])"
   ]
  },
  {
   "cell_type": "code",
   "execution_count": 4,
   "id": "f81ed6e7",
   "metadata": {},
   "outputs": [
    {
     "data": {
      "text/html": [
       "<div>\n",
       "<style scoped>\n",
       "    .dataframe tbody tr th:only-of-type {\n",
       "        vertical-align: middle;\n",
       "    }\n",
       "\n",
       "    .dataframe tbody tr th {\n",
       "        vertical-align: top;\n",
       "    }\n",
       "\n",
       "    .dataframe thead th {\n",
       "        text-align: right;\n",
       "    }\n",
       "</style>\n",
       "<table border=\"1\" class=\"dataframe\">\n",
       "  <thead>\n",
       "    <tr style=\"text-align: right;\">\n",
       "      <th></th>\n",
       "      <th>size</th>\n",
       "    </tr>\n",
       "    <tr>\n",
       "      <th>exchange</th>\n",
       "      <th></th>\n",
       "    </tr>\n",
       "  </thead>\n",
       "  <tbody>\n",
       "    <tr>\n",
       "      <th>BINANCE</th>\n",
       "      <td>46.009882</td>\n",
       "    </tr>\n",
       "    <tr>\n",
       "      <th>BYBIT</th>\n",
       "      <td>141.433248</td>\n",
       "    </tr>\n",
       "    <tr>\n",
       "      <th>HUOBI</th>\n",
       "      <td>55.503243</td>\n",
       "    </tr>\n",
       "  </tbody>\n",
       "</table>\n",
       "</div>"
      ],
      "text/plain": [
       "                size\n",
       "exchange            \n",
       "BINANCE    46.009882\n",
       "BYBIT     141.433248\n",
       "HUOBI      55.503243"
      ]
     },
     "execution_count": 4,
     "metadata": {},
     "output_type": "execute_result"
    }
   ],
   "source": [
    "files.groupby('exchange').sum() / 1024  # in gb's"
   ]
  },
  {
   "cell_type": "markdown",
   "id": "cc2f49aa",
   "metadata": {},
   "source": [
    "### What data is about"
   ]
  },
  {
   "cell_type": "code",
   "execution_count": 5,
   "id": "f5b3f5ce",
   "metadata": {},
   "outputs": [],
   "source": [
    "binance = data_path.glob('BINANCE*')\n",
    "bybit = data_path.glob('BYBIT*')\n",
    "huobi = data_path.glob('HUOOBI*')"
   ]
  },
  {
   "cell_type": "code",
   "execution_count": 14,
   "id": "653c7fe8",
   "metadata": {},
   "outputs": [],
   "source": [
    "from tqdm import tqdm\n",
    "from src.parsers.bybit import BybitUpdateMessage\n",
    "from src.parsers.binance import BinanceUpdateMessage, BinanceTrade, BinanceDepth\n",
    "\n",
    "\n",
    "def is_trade(msg):\n",
    "    return isinstance(msg.payload, BinanceTrade)\n",
    "\n",
    "def is_depth(msg):\n",
    "    return isinstance(msg.payload, BinanceDepth)\n",
    "    \n",
    "    \n",
    "class Parser:\n",
    "    def __init__(self, source):\n",
    "        self.parser = BinanceUpdateMessage if source == 'binance' else \\\n",
    "            BybitUpdateMessage\n",
    "\n",
    "    def parse(self, message):\n",
    "        if message.startswith('wss'):\n",
    "            return None\n",
    "\n",
    "        return self.parser(raw=message)\n",
    "\n",
    "    def read(self, path):\n",
    "        results = []\n",
    "        with open(path, 'r') as f:\n",
    "            data = f.readlines()\n",
    "\n",
    "        for update in tqdm(data):\n",
    "            res = self.parse(update)\n",
    "\n",
    "            if res is None:\n",
    "                continue\n",
    "\n",
    "            results.append(res)\n",
    "\n",
    "        return results\n",
    "\n"
   ]
  },
  {
   "cell_type": "markdown",
   "id": "244b495e",
   "metadata": {},
   "source": [
    "#### binance"
   ]
  },
  {
   "cell_type": "code",
   "execution_count": 15,
   "id": "7a6df7bd",
   "metadata": {},
   "outputs": [
    {
     "name": "stderr",
     "output_type": "stream",
     "text": [
      "100%|██████████████████████████████████████████████████████████████████████████████████████████████████████████████████████████████████████████████| 260000/260000 [00:38<00:00, 6792.80it/s]\n"
     ]
    }
   ],
   "source": [
    "p = Parser('binance')\n",
    "\n",
    "binance = sorted(data_path.glob('BINANCE.ws*'), key=lambda x: int(x.suffix[1:]))\n",
    "\n",
    "# msgs = p.read('../data/BINANCE.ws.3.0')\n",
    "\n",
    "for path in binance:\n",
    "    msgs = p.read(path)\n",
    "    break\n",
    "#     trades = pd.DataFrame([msg.payload.data.dict() for msg in msgs if is_trade(msg)])\n",
    "#     trades.to_feather('processed/BINANCE.ws.3.0.feather')"
   ]
  },
  {
   "cell_type": "markdown",
   "id": "b9d4448f",
   "metadata": {},
   "source": [
    "We need:\n",
    "1. Indexes and sizes of Ask/Bid arrivals\n",
    "2. Size of market arrivals\n",
    "3. Indexes and sizes of cancels"
   ]
  },
  {
   "cell_type": "code",
   "execution_count": 16,
   "id": "1dd354a6",
   "metadata": {},
   "outputs": [],
   "source": [
    "\n",
    "from src.parsers.unified import Other\n",
    "from src.estimators.base import BaseEstimator, Decoder\n"
   ]
  },
  {
   "cell_type": "code",
   "execution_count": 17,
   "id": "d2374e62",
   "metadata": {},
   "outputs": [
    {
     "name": "stderr",
     "output_type": "stream",
     "text": [
      "100%|████████████████████████████████████████████████████████████████████████████████████████████████████████████████████████████████████████████| 259999/259999 [00:02<00:00, 121181.00it/s]\n"
     ]
    }
   ],
   "source": [
    "\n",
    "\n",
    "d = Decoder()\n",
    "selected = []\n",
    "\n",
    "for msg in tqdm(msgs):\n",
    "    res = d.decode(msg)\n",
    "    \n",
    "    \n",
    "    if isinstance(res, Other):\n",
    "        continue\n",
    "        \n",
    "    if d.is_trade(res):\n",
    "        if res.symbol != 'BNBUSDT':\n",
    "            continue\n",
    "            \n",
    "    if d.is_depth(res):        \n",
    "        if res.update[0].symbol != 'BNBUSDT':\n",
    "            continue\n",
    "        \n",
    "    selected.append(msg)\n",
    "        "
   ]
  },
  {
   "cell_type": "code",
   "execution_count": 24,
   "id": "4e23a21e",
   "metadata": {},
   "outputs": [
    {
     "name": "stdout",
     "output_type": "stream",
     "text": [
      "The autoreload extension is already loaded. To reload it, use:\n",
      "  %reload_ext autoreload\n"
     ]
    }
   ],
   "source": []
  },
  {
   "cell_type": "code",
   "execution_count": 221,
   "id": "eee3792d",
   "metadata": {
    "scrolled": true
   },
   "outputs": [
    {
     "name": "stdout",
     "output_type": "stream",
     "text": [
      "The autoreload extension is already loaded. To reload it, use:\n",
      "  %reload_ext autoreload\n"
     ]
    },
    {
     "name": "stderr",
     "output_type": "stream",
     "text": [
      "100%|███████████████████████████████████████████████████████████████████████████████████████████████████████████████████████████████████████████████| 31509/31509 [00:00<00:00, 94929.87it/s]\n"
     ]
    },
    {
     "ename": "ValueError",
     "evalue": "setting an array element with a sequence. The requested array has an inhomogeneous shape after 1 dimensions. The detected shape was (2,) + inhomogeneous part.",
     "output_type": "error",
     "traceback": [
      "\u001b[0;31m---------------------------------------------------------------------------\u001b[0m",
      "\u001b[0;31mValueError\u001b[0m                                Traceback (most recent call last)",
      "Cell \u001b[0;32mIn[221], line 13\u001b[0m\n\u001b[1;32m     10\u001b[0m e \u001b[38;5;241m=\u001b[39m BaseEstimator(tick_size\u001b[38;5;241m=\u001b[39mDecimal(\u001b[38;5;124m'\u001b[39m\u001b[38;5;124m0.1\u001b[39m\u001b[38;5;124m'\u001b[39m))\n\u001b[1;32m     12\u001b[0m e\u001b[38;5;241m.\u001b[39mestimate(selected)\n\u001b[0;32m---> 13\u001b[0m \u001b[43me\u001b[49m\u001b[38;5;241;43m.\u001b[39;49m\u001b[43mget_parameters\u001b[49m\u001b[43m(\u001b[49m\u001b[43m)\u001b[49m\n",
      "File \u001b[0;32m~/THESIS/src/estimators/base.py:97\u001b[0m, in \u001b[0;36mBaseEstimator.get_parameters\u001b[0;34m(self)\u001b[0m\n\u001b[1;32m     93\u001b[0m lamdaib \u001b[38;5;241m=\u001b[39m Nlib \u001b[38;5;241m/\u001b[39m T\n\u001b[1;32m     95\u001b[0m mu \u001b[38;5;241m=\u001b[39m \u001b[38;5;28mlen\u001b[39m(\u001b[38;5;28mself\u001b[39m\u001b[38;5;241m.\u001b[39mmarket_arrivals\u001b[38;5;241m.\u001b[39mundefined) \u001b[38;5;241m/\u001b[39m T \u001b[38;5;241m*\u001b[39m Sm \u001b[38;5;241m/\u001b[39m Sl\n\u001b[0;32m---> 97\u001b[0m Qi \u001b[38;5;241m=\u001b[39m \u001b[43mnp\u001b[49m\u001b[38;5;241;43m.\u001b[39;49m\u001b[43mmean\u001b[49m\u001b[43m(\u001b[49m\u001b[43m[\u001b[49m\n\u001b[1;32m     98\u001b[0m \u001b[43m    \u001b[49m\u001b[43m(\u001b[49m\u001b[43marrivals_buy\u001b[49m\u001b[38;5;241;43m.\u001b[39;49m\u001b[43mgroupby\u001b[49m\u001b[43m(\u001b[49m\u001b[38;5;124;43m'\u001b[39;49m\u001b[38;5;124;43mi\u001b[39;49m\u001b[38;5;124;43m'\u001b[39;49m\u001b[43m)\u001b[49m\u001b[38;5;241;43m.\u001b[39;49m\u001b[43mmean\u001b[49m\u001b[43m(\u001b[49m\u001b[43m)\u001b[49m\u001b[43m \u001b[49m\u001b[38;5;241;43m/\u001b[39;49m\u001b[43m \u001b[49m\u001b[43mSl\u001b[49m\u001b[43m)\u001b[49m\u001b[43m[\u001b[49m\u001b[38;5;124;43m'\u001b[39;49m\u001b[38;5;124;43mquantity\u001b[39;49m\u001b[38;5;124;43m'\u001b[39;49m\u001b[43m]\u001b[49m\u001b[38;5;241;43m.\u001b[39;49m\u001b[43mvalues\u001b[49m\u001b[43m,\u001b[49m\n\u001b[1;32m     99\u001b[0m \u001b[43m    \u001b[49m\u001b[43m(\u001b[49m\u001b[43marrivals_sell\u001b[49m\u001b[38;5;241;43m.\u001b[39;49m\u001b[43mgroupby\u001b[49m\u001b[43m(\u001b[49m\u001b[38;5;124;43m'\u001b[39;49m\u001b[38;5;124;43mi\u001b[39;49m\u001b[38;5;124;43m'\u001b[39;49m\u001b[43m)\u001b[49m\u001b[38;5;241;43m.\u001b[39;49m\u001b[43mmean\u001b[49m\u001b[43m(\u001b[49m\u001b[43m)\u001b[49m\u001b[43m \u001b[49m\u001b[38;5;241;43m/\u001b[39;49m\u001b[43m \u001b[49m\u001b[43mSl\u001b[49m\u001b[43m)\u001b[49m\u001b[43m[\u001b[49m\u001b[38;5;124;43m'\u001b[39;49m\u001b[38;5;124;43mquantity\u001b[39;49m\u001b[38;5;124;43m'\u001b[39;49m\u001b[43m]\u001b[49m\u001b[38;5;241;43m.\u001b[39;49m\u001b[43mvalues\u001b[49m\u001b[43m,\u001b[49m\n\u001b[1;32m    100\u001b[0m \u001b[43m\u001b[49m\u001b[43m]\u001b[49m\u001b[43m,\u001b[49m\u001b[43m \u001b[49m\u001b[43maxis\u001b[49m\u001b[38;5;241;43m=\u001b[39;49m\u001b[38;5;241;43m0\u001b[39;49m\u001b[43m)\u001b[49m\n\u001b[1;32m    102\u001b[0m thetai \u001b[38;5;241m=\u001b[39m (cancels_sell\u001b[38;5;241m.\u001b[39mgroupby(\u001b[38;5;124m'\u001b[39m\u001b[38;5;124mi\u001b[39m\u001b[38;5;124m'\u001b[39m)\u001b[38;5;241m.\u001b[39mcount() \u001b[38;5;241m+\u001b[39m\n\u001b[1;32m    103\u001b[0m           cancels_sell\u001b[38;5;241m.\u001b[39mgroupby(\u001b[38;5;124m'\u001b[39m\u001b[38;5;124mi\u001b[39m\u001b[38;5;124m'\u001b[39m)\u001b[38;5;241m.\u001b[39mcount())\u001b[38;5;241m.\u001b[39msort_index()\u001b[38;5;241m.\u001b[39mvalues \u001b[38;5;241m/\u001b[39m (T \u001b[38;5;241m*\u001b[39m Qi) \u001b[38;5;241m*\u001b[39m Sc\u001b[38;5;241m.\u001b[39miloc[\u001b[38;5;241m0\u001b[39m] \u001b[38;5;241m/\u001b[39m Sl\n\u001b[1;32m    105\u001b[0m \u001b[38;5;28;01mreturn\u001b[39;00m {\n\u001b[1;32m    106\u001b[0m     \u001b[38;5;124m'\u001b[39m\u001b[38;5;124mmu\u001b[39m\u001b[38;5;124m'\u001b[39m: mu,\n\u001b[1;32m    107\u001b[0m     \u001b[38;5;124m'\u001b[39m\u001b[38;5;124mtheta\u001b[39m\u001b[38;5;124m'\u001b[39m: thetai,\n\u001b[0;32m   (...)\u001b[0m\n\u001b[1;32m    110\u001b[0m     \u001b[38;5;124m'\u001b[39m\u001b[38;5;124mQi\u001b[39m\u001b[38;5;124m'\u001b[39m: Qi\n\u001b[1;32m    111\u001b[0m }\n",
      "File \u001b[0;32m<__array_function__ internals>:200\u001b[0m, in \u001b[0;36mmean\u001b[0;34m(*args, **kwargs)\u001b[0m\n",
      "File \u001b[0;32m~/miniconda3/lib/python3.10/site-packages/numpy/core/fromnumeric.py:3464\u001b[0m, in \u001b[0;36mmean\u001b[0;34m(a, axis, dtype, out, keepdims, where)\u001b[0m\n\u001b[1;32m   3461\u001b[0m     \u001b[38;5;28;01melse\u001b[39;00m:\n\u001b[1;32m   3462\u001b[0m         \u001b[38;5;28;01mreturn\u001b[39;00m mean(axis\u001b[38;5;241m=\u001b[39maxis, dtype\u001b[38;5;241m=\u001b[39mdtype, out\u001b[38;5;241m=\u001b[39mout, \u001b[38;5;241m*\u001b[39m\u001b[38;5;241m*\u001b[39mkwargs)\n\u001b[0;32m-> 3464\u001b[0m \u001b[38;5;28;01mreturn\u001b[39;00m \u001b[43m_methods\u001b[49m\u001b[38;5;241;43m.\u001b[39;49m\u001b[43m_mean\u001b[49m\u001b[43m(\u001b[49m\u001b[43ma\u001b[49m\u001b[43m,\u001b[49m\u001b[43m \u001b[49m\u001b[43maxis\u001b[49m\u001b[38;5;241;43m=\u001b[39;49m\u001b[43maxis\u001b[49m\u001b[43m,\u001b[49m\u001b[43m \u001b[49m\u001b[43mdtype\u001b[49m\u001b[38;5;241;43m=\u001b[39;49m\u001b[43mdtype\u001b[49m\u001b[43m,\u001b[49m\n\u001b[1;32m   3465\u001b[0m \u001b[43m                      \u001b[49m\u001b[43mout\u001b[49m\u001b[38;5;241;43m=\u001b[39;49m\u001b[43mout\u001b[49m\u001b[43m,\u001b[49m\u001b[43m \u001b[49m\u001b[38;5;241;43m*\u001b[39;49m\u001b[38;5;241;43m*\u001b[39;49m\u001b[43mkwargs\u001b[49m\u001b[43m)\u001b[49m\n",
      "File \u001b[0;32m~/miniconda3/lib/python3.10/site-packages/numpy/core/_methods.py:165\u001b[0m, in \u001b[0;36m_mean\u001b[0;34m(a, axis, dtype, out, keepdims, where)\u001b[0m\n\u001b[1;32m    164\u001b[0m \u001b[38;5;28;01mdef\u001b[39;00m \u001b[38;5;21m_mean\u001b[39m(a, axis\u001b[38;5;241m=\u001b[39m\u001b[38;5;28;01mNone\u001b[39;00m, dtype\u001b[38;5;241m=\u001b[39m\u001b[38;5;28;01mNone\u001b[39;00m, out\u001b[38;5;241m=\u001b[39m\u001b[38;5;28;01mNone\u001b[39;00m, keepdims\u001b[38;5;241m=\u001b[39m\u001b[38;5;28;01mFalse\u001b[39;00m, \u001b[38;5;241m*\u001b[39m, where\u001b[38;5;241m=\u001b[39m\u001b[38;5;28;01mTrue\u001b[39;00m):\n\u001b[0;32m--> 165\u001b[0m     arr \u001b[38;5;241m=\u001b[39m \u001b[43masanyarray\u001b[49m\u001b[43m(\u001b[49m\u001b[43ma\u001b[49m\u001b[43m)\u001b[49m\n\u001b[1;32m    167\u001b[0m     is_float16_result \u001b[38;5;241m=\u001b[39m \u001b[38;5;28;01mFalse\u001b[39;00m\n\u001b[1;32m    169\u001b[0m     rcount \u001b[38;5;241m=\u001b[39m _count_reduce_items(arr, axis, keepdims\u001b[38;5;241m=\u001b[39mkeepdims, where\u001b[38;5;241m=\u001b[39mwhere)\n",
      "\u001b[0;31mValueError\u001b[0m: setting an array element with a sequence. The requested array has an inhomogeneous shape after 1 dimensions. The detected shape was (2,) + inhomogeneous part."
     ]
    }
   ],
   "source": [
    "%load_ext autoreload\n",
    "%autoreload 2\n",
    "\n",
    "from collections import Counter\n",
    "from decimal import Decimal\n",
    "from src.parsers.unified import Other\n",
    "from src.estimators.base import BaseEstimator, Decoder\n",
    "\n",
    "\n",
    "e = BaseEstimator(tick_size=Decimal('0.1'))\n",
    "\n",
    "e.estimate(selected)\n",
    "e.get_parameters()"
   ]
  },
  {
   "cell_type": "code",
   "execution_count": 223,
   "id": "83d00b36",
   "metadata": {},
   "outputs": [],
   "source": [
    "Sm = float(np.mean(e.market_arrivals.undefined))\n",
    "\n",
    "arrivals_buy, arrivals_sell, _ = e.arrivals.to_dataframe()\n",
    "\n",
    "first = arrivals_buy.groupby('i').mean()\n",
    "second = arrivals_sell.groupby('i').mean()\n",
    "\n",
    "holder = pd.DataFrame(0, columns=['quantity'],\n",
    "                      index=first.index.union(second.index))\n",
    "\n",
    "Sl = ((holder + first).fillna(0) + second).mean().iloc[0]\n",
    "\n",
    "cancels_buy, cancels_sell, _ = e.cancels.to_dataframe()\n",
    "\n",
    "first = cancels_buy.groupby('i').mean()\n",
    "second = cancels_sell.groupby('i').mean()\n",
    "\n",
    "holder = pd.DataFrame(0, columns=['quantity'],\n",
    "                      index=first.index.union(second.index))\n",
    "\n",
    "Sc = abs(((holder + first).fillna(0) + second).mean().iloc[0]) - Sm\n",
    "\n",
    "Nlia = arrivals_sell.groupby('i').count()\n",
    "Nlib = arrivals_buy.groupby('i').count()\n",
    "\n",
    "T = (max(e.tss) - min(e.tss)).total_seconds() / 60\n",
    "\n",
    "lamdaia = Nlia / T\n",
    "lamdaib = Nlib / T\n",
    "\n",
    "mu = len(e.market_arrivals.undefined) / T * Sm / Sl"
   ]
  },
  {
   "cell_type": "code",
   "execution_count": 234,
   "id": "47b4c047",
   "metadata": {},
   "outputs": [
    {
     "data": {
      "text/html": [
       "<div>\n",
       "<style scoped>\n",
       "    .dataframe tbody tr th:only-of-type {\n",
       "        vertical-align: middle;\n",
       "    }\n",
       "\n",
       "    .dataframe tbody tr th {\n",
       "        vertical-align: top;\n",
       "    }\n",
       "\n",
       "    .dataframe thead th {\n",
       "        text-align: right;\n",
       "    }\n",
       "</style>\n",
       "<table border=\"1\" class=\"dataframe\">\n",
       "  <thead>\n",
       "    <tr style=\"text-align: right;\">\n",
       "      <th></th>\n",
       "      <th>quantity</th>\n",
       "    </tr>\n",
       "    <tr>\n",
       "      <th>i</th>\n",
       "      <th></th>\n",
       "    </tr>\n",
       "  </thead>\n",
       "  <tbody>\n",
       "    <tr>\n",
       "      <th>0</th>\n",
       "      <td>0.055912</td>\n",
       "    </tr>\n",
       "    <tr>\n",
       "      <th>1</th>\n",
       "      <td>0.058192</td>\n",
       "    </tr>\n",
       "    <tr>\n",
       "      <th>2</th>\n",
       "      <td>0.063148</td>\n",
       "    </tr>\n",
       "    <tr>\n",
       "      <th>3</th>\n",
       "      <td>0.063076</td>\n",
       "    </tr>\n",
       "    <tr>\n",
       "      <th>4</th>\n",
       "      <td>0.070447</td>\n",
       "    </tr>\n",
       "    <tr>\n",
       "      <th>...</th>\n",
       "      <td>...</td>\n",
       "    </tr>\n",
       "    <tr>\n",
       "      <th>4684</th>\n",
       "      <td>0.002065</td>\n",
       "    </tr>\n",
       "    <tr>\n",
       "      <th>4695</th>\n",
       "      <td>0.008727</td>\n",
       "    </tr>\n",
       "    <tr>\n",
       "      <th>6875</th>\n",
       "      <td>2.623617</td>\n",
       "    </tr>\n",
       "    <tr>\n",
       "      <th>7263</th>\n",
       "      <td>0.00022</td>\n",
       "    </tr>\n",
       "    <tr>\n",
       "      <th>7264</th>\n",
       "      <td>0.000226</td>\n",
       "    </tr>\n",
       "  </tbody>\n",
       "</table>\n",
       "<p>311 rows × 1 columns</p>\n",
       "</div>"
      ],
      "text/plain": [
       "      quantity\n",
       "i             \n",
       "0     0.055912\n",
       "1     0.058192\n",
       "2     0.063148\n",
       "3     0.063076\n",
       "4     0.070447\n",
       "...        ...\n",
       "4684  0.002065\n",
       "4695  0.008727\n",
       "6875  2.623617\n",
       "7263   0.00022\n",
       "7264  0.000226\n",
       "\n",
       "[311 rows x 1 columns]"
      ]
     },
     "execution_count": 234,
     "metadata": {},
     "output_type": "execute_result"
    }
   ],
   "source": [
    "arrivals_sell.groupby('i').mean() / Sl"
   ]
  },
  {
   "cell_type": "code",
   "execution_count": 235,
   "id": "c252b5fd",
   "metadata": {},
   "outputs": [
    {
     "ename": "AxisError",
     "evalue": "axis 0 is out of bounds for array of dimension 0",
     "output_type": "error",
     "traceback": [
      "\u001b[0;31m---------------------------------------------------------------------------\u001b[0m",
      "\u001b[0;31mAxisError\u001b[0m                                 Traceback (most recent call last)",
      "Cell \u001b[0;32mIn[235], line 1\u001b[0m\n\u001b[0;32m----> 1\u001b[0m Qi \u001b[38;5;241m=\u001b[39m \u001b[43mnp\u001b[49m\u001b[38;5;241;43m.\u001b[39;49m\u001b[43mmean\u001b[49m\u001b[43m(\u001b[49m\u001b[38;5;28;43mzip\u001b[39;49m\u001b[43m(\u001b[49m\u001b[43m[\u001b[49m\n\u001b[1;32m      2\u001b[0m \u001b[43m        \u001b[49m\u001b[43m(\u001b[49m\u001b[43marrivals_buy\u001b[49m\u001b[38;5;241;43m.\u001b[39;49m\u001b[43mgroupby\u001b[49m\u001b[43m(\u001b[49m\u001b[38;5;124;43m'\u001b[39;49m\u001b[38;5;124;43mi\u001b[39;49m\u001b[38;5;124;43m'\u001b[39;49m\u001b[43m)\u001b[49m\u001b[38;5;241;43m.\u001b[39;49m\u001b[43mmean\u001b[49m\u001b[43m(\u001b[49m\u001b[43m)\u001b[49m\u001b[43m \u001b[49m\u001b[38;5;241;43m/\u001b[39;49m\u001b[43m \u001b[49m\u001b[43mSl\u001b[49m\u001b[43m)\u001b[49m\u001b[43m[\u001b[49m\u001b[38;5;124;43m'\u001b[39;49m\u001b[38;5;124;43mquantity\u001b[39;49m\u001b[38;5;124;43m'\u001b[39;49m\u001b[43m]\u001b[49m\u001b[38;5;241;43m.\u001b[39;49m\u001b[43mvalues\u001b[49m\u001b[43m,\u001b[49m\n\u001b[1;32m      3\u001b[0m \u001b[43m        \u001b[49m\u001b[43m(\u001b[49m\u001b[43marrivals_sell\u001b[49m\u001b[38;5;241;43m.\u001b[39;49m\u001b[43mgroupby\u001b[49m\u001b[43m(\u001b[49m\u001b[38;5;124;43m'\u001b[39;49m\u001b[38;5;124;43mi\u001b[39;49m\u001b[38;5;124;43m'\u001b[39;49m\u001b[43m)\u001b[49m\u001b[38;5;241;43m.\u001b[39;49m\u001b[43mmean\u001b[49m\u001b[43m(\u001b[49m\u001b[43m)\u001b[49m\u001b[43m \u001b[49m\u001b[38;5;241;43m/\u001b[39;49m\u001b[43m \u001b[49m\u001b[43mSl\u001b[49m\u001b[43m)\u001b[49m\u001b[43m[\u001b[49m\u001b[38;5;124;43m'\u001b[39;49m\u001b[38;5;124;43mquantity\u001b[39;49m\u001b[38;5;124;43m'\u001b[39;49m\u001b[43m]\u001b[49m\u001b[38;5;241;43m.\u001b[39;49m\u001b[43mvalues\u001b[49m\u001b[43m,\u001b[49m\n\u001b[1;32m      4\u001b[0m \u001b[43m    \u001b[49m\u001b[43m]\u001b[49m\u001b[43m)\u001b[49m\u001b[43m,\u001b[49m\u001b[43m \u001b[49m\u001b[43maxis\u001b[49m\u001b[38;5;241;43m=\u001b[39;49m\u001b[38;5;241;43m0\u001b[39;49m\u001b[43m)\u001b[49m\n",
      "File \u001b[0;32m<__array_function__ internals>:200\u001b[0m, in \u001b[0;36mmean\u001b[0;34m(*args, **kwargs)\u001b[0m\n",
      "File \u001b[0;32m~/miniconda3/lib/python3.10/site-packages/numpy/core/fromnumeric.py:3464\u001b[0m, in \u001b[0;36mmean\u001b[0;34m(a, axis, dtype, out, keepdims, where)\u001b[0m\n\u001b[1;32m   3461\u001b[0m     \u001b[38;5;28;01melse\u001b[39;00m:\n\u001b[1;32m   3462\u001b[0m         \u001b[38;5;28;01mreturn\u001b[39;00m mean(axis\u001b[38;5;241m=\u001b[39maxis, dtype\u001b[38;5;241m=\u001b[39mdtype, out\u001b[38;5;241m=\u001b[39mout, \u001b[38;5;241m*\u001b[39m\u001b[38;5;241m*\u001b[39mkwargs)\n\u001b[0;32m-> 3464\u001b[0m \u001b[38;5;28;01mreturn\u001b[39;00m \u001b[43m_methods\u001b[49m\u001b[38;5;241;43m.\u001b[39;49m\u001b[43m_mean\u001b[49m\u001b[43m(\u001b[49m\u001b[43ma\u001b[49m\u001b[43m,\u001b[49m\u001b[43m \u001b[49m\u001b[43maxis\u001b[49m\u001b[38;5;241;43m=\u001b[39;49m\u001b[43maxis\u001b[49m\u001b[43m,\u001b[49m\u001b[43m \u001b[49m\u001b[43mdtype\u001b[49m\u001b[38;5;241;43m=\u001b[39;49m\u001b[43mdtype\u001b[49m\u001b[43m,\u001b[49m\n\u001b[1;32m   3465\u001b[0m \u001b[43m                      \u001b[49m\u001b[43mout\u001b[49m\u001b[38;5;241;43m=\u001b[39;49m\u001b[43mout\u001b[49m\u001b[43m,\u001b[49m\u001b[43m \u001b[49m\u001b[38;5;241;43m*\u001b[39;49m\u001b[38;5;241;43m*\u001b[39;49m\u001b[43mkwargs\u001b[49m\u001b[43m)\u001b[49m\n",
      "File \u001b[0;32m~/miniconda3/lib/python3.10/site-packages/numpy/core/_methods.py:169\u001b[0m, in \u001b[0;36m_mean\u001b[0;34m(a, axis, dtype, out, keepdims, where)\u001b[0m\n\u001b[1;32m    165\u001b[0m arr \u001b[38;5;241m=\u001b[39m asanyarray(a)\n\u001b[1;32m    167\u001b[0m is_float16_result \u001b[38;5;241m=\u001b[39m \u001b[38;5;28;01mFalse\u001b[39;00m\n\u001b[0;32m--> 169\u001b[0m rcount \u001b[38;5;241m=\u001b[39m \u001b[43m_count_reduce_items\u001b[49m\u001b[43m(\u001b[49m\u001b[43marr\u001b[49m\u001b[43m,\u001b[49m\u001b[43m \u001b[49m\u001b[43maxis\u001b[49m\u001b[43m,\u001b[49m\u001b[43m \u001b[49m\u001b[43mkeepdims\u001b[49m\u001b[38;5;241;43m=\u001b[39;49m\u001b[43mkeepdims\u001b[49m\u001b[43m,\u001b[49m\u001b[43m \u001b[49m\u001b[43mwhere\u001b[49m\u001b[38;5;241;43m=\u001b[39;49m\u001b[43mwhere\u001b[49m\u001b[43m)\u001b[49m\n\u001b[1;32m    170\u001b[0m \u001b[38;5;28;01mif\u001b[39;00m rcount \u001b[38;5;241m==\u001b[39m \u001b[38;5;241m0\u001b[39m \u001b[38;5;28;01mif\u001b[39;00m where \u001b[38;5;129;01mis\u001b[39;00m \u001b[38;5;28;01mTrue\u001b[39;00m \u001b[38;5;28;01melse\u001b[39;00m umr_any(rcount \u001b[38;5;241m==\u001b[39m \u001b[38;5;241m0\u001b[39m, axis\u001b[38;5;241m=\u001b[39m\u001b[38;5;28;01mNone\u001b[39;00m):\n\u001b[1;32m    171\u001b[0m     warnings\u001b[38;5;241m.\u001b[39mwarn(\u001b[38;5;124m\"\u001b[39m\u001b[38;5;124mMean of empty slice.\u001b[39m\u001b[38;5;124m\"\u001b[39m, \u001b[38;5;167;01mRuntimeWarning\u001b[39;00m, stacklevel\u001b[38;5;241m=\u001b[39m\u001b[38;5;241m2\u001b[39m)\n",
      "File \u001b[0;32m~/miniconda3/lib/python3.10/site-packages/numpy/core/_methods.py:77\u001b[0m, in \u001b[0;36m_count_reduce_items\u001b[0;34m(arr, axis, keepdims, where)\u001b[0m\n\u001b[1;32m     75\u001b[0m     items \u001b[38;5;241m=\u001b[39m \u001b[38;5;241m1\u001b[39m\n\u001b[1;32m     76\u001b[0m     \u001b[38;5;28;01mfor\u001b[39;00m ax \u001b[38;5;129;01min\u001b[39;00m axis:\n\u001b[0;32m---> 77\u001b[0m         items \u001b[38;5;241m*\u001b[39m\u001b[38;5;241m=\u001b[39m arr\u001b[38;5;241m.\u001b[39mshape[\u001b[43mmu\u001b[49m\u001b[38;5;241;43m.\u001b[39;49m\u001b[43mnormalize_axis_index\u001b[49m\u001b[43m(\u001b[49m\u001b[43max\u001b[49m\u001b[43m,\u001b[49m\u001b[43m \u001b[49m\u001b[43marr\u001b[49m\u001b[38;5;241;43m.\u001b[39;49m\u001b[43mndim\u001b[49m\u001b[43m)\u001b[49m]\n\u001b[1;32m     78\u001b[0m     items \u001b[38;5;241m=\u001b[39m nt\u001b[38;5;241m.\u001b[39mintp(items)\n\u001b[1;32m     79\u001b[0m \u001b[38;5;28;01melse\u001b[39;00m:\n\u001b[1;32m     80\u001b[0m     \u001b[38;5;66;03m# TODO: Optimize case when `where` is broadcast along a non-reduction\u001b[39;00m\n\u001b[1;32m     81\u001b[0m     \u001b[38;5;66;03m# axis and full sum is more excessive than needed.\u001b[39;00m\n\u001b[1;32m     82\u001b[0m \n\u001b[1;32m     83\u001b[0m     \u001b[38;5;66;03m# guarded to protect circular imports\u001b[39;00m\n",
      "\u001b[0;31mAxisError\u001b[0m: axis 0 is out of bounds for array of dimension 0"
     ]
    }
   ],
   "source": [
    "Qi = np.mean(zip([\n",
    "        (arrivals_buy.groupby('i').mean() / Sl)['quantity'].values,\n",
    "        (arrivals_sell.groupby('i').mean() / Sl)['quantity'].values,\n",
    "    ]), axis=0)"
   ]
  },
  {
   "cell_type": "code",
   "execution_count": 228,
   "id": "f759d28f",
   "metadata": {},
   "outputs": [
    {
     "data": {
      "text/plain": [
       "<Axes: xlabel='i'>"
      ]
     },
     "execution_count": 228,
     "metadata": {},
     "output_type": "execute_result"
    },
    {
     "data": {
      "image/png": "[encoded data removed]",
      "text/plain": [
       "<Figure size 640x480 with 1 Axes>"
      ]
     },
     "metadata": {},
     "output_type": "display_data"
    }
   ],
   "source": [
    "lamdaib.iloc[:30].plot()"
   ]
  },
  {
   "cell_type": "code",
   "execution_count": null,
   "id": "b1c6f97c",
   "metadata": {},
   "outputs": [],
   "source": []
  },
  {
   "cell_type": "code",
   "execution_count": null,
   "id": "2e807ae3",
   "metadata": {},
   "outputs": [],
   "source": []
  },
  {
   "cell_type": "code",
   "execution_count": 207,
   "id": "476aa0f8",
   "metadata": {},
   "outputs": [],
   "source": [
    "first = pd.DataFrame(e.arrivals.buy, columns=['i', 'quantity']).groupby('i').mean()"
   ]
  },
  {
   "cell_type": "code",
   "execution_count": 208,
   "id": "e6f9fef1",
   "metadata": {},
   "outputs": [],
   "source": [
    "second = pd.DataFrame(e.arrivals.sell , columns=['i', 'quantity']).groupby('i').mean()"
   ]
  },
  {
   "cell_type": "code",
   "execution_count": 215,
   "id": "dbee6909",
   "metadata": {},
   "outputs": [
    {
     "data": {
      "text/plain": [
       "BinanceUpdateMessage(raw='1680788074.629167: {\"stream\":\"ethusdt@aggTrade\",\"data\":{\"e\":\"aggTrade\",\"E\":1680788074489,\"s\":\"ETHUSDT\",\"a\":880496927,\"p\":\"1864.10000000\",\"q\":\"0.00570000\",\"f\":1123675678,\"l\":1123675678,\"T\":1680788074489,\"m\":false,\"M\":true}}\\n', ts=datetime.datetime(2023, 4, 6, 13, 34, 34, 629167, tzinfo=datetime.timezone.utc), payload=BinanceTrade(stream='ethusdt@aggTrade', data=BinanceTradeData(event_type='aggTrade', ts=datetime.datetime(2023, 4, 6, 13, 34, 34, 489000, tzinfo=datetime.timezone.utc), symbol='ETHUSDT', agg_trade_id=880496927, price=Decimal('1864.10000000'), quantity=Decimal('0.00570000'), first_trade_id=1123675678, last_trade_id=1123675678, trade_time=datetime.datetime(2023, 4, 6, 13, 34, 34, 489000, tzinfo=datetime.timezone.utc), is_market_maker=False, is_ignore=True, side=None)))"
      ]
     },
     "execution_count": 215,
     "metadata": {},
     "output_type": "execute_result"
    }
   ],
   "source": [
    "msgs[0]"
   ]
  },
  {
   "cell_type": "code",
   "execution_count": 209,
   "id": "9f7f9693",
   "metadata": {},
   "outputs": [
    {
     "data": {
      "text/html": [
       "<div>\n",
       "<style scoped>\n",
       "    .dataframe tbody tr th:only-of-type {\n",
       "        vertical-align: middle;\n",
       "    }\n",
       "\n",
       "    .dataframe tbody tr th {\n",
       "        vertical-align: top;\n",
       "    }\n",
       "\n",
       "    .dataframe thead th {\n",
       "        text-align: right;\n",
       "    }\n",
       "</style>\n",
       "<table border=\"1\" class=\"dataframe\">\n",
       "  <thead>\n",
       "    <tr style=\"text-align: right;\">\n",
       "      <th></th>\n",
       "      <th>quantity</th>\n",
       "    </tr>\n",
       "    <tr>\n",
       "      <th>i</th>\n",
       "      <th></th>\n",
       "    </tr>\n",
       "  </thead>\n",
       "  <tbody>\n",
       "    <tr>\n",
       "      <th>0</th>\n",
       "      <td>15.814413</td>\n",
       "    </tr>\n",
       "    <tr>\n",
       "      <th>1</th>\n",
       "      <td>15.341537</td>\n",
       "    </tr>\n",
       "    <tr>\n",
       "      <th>2</th>\n",
       "      <td>14.777681</td>\n",
       "    </tr>\n",
       "    <tr>\n",
       "      <th>3</th>\n",
       "      <td>13.624776</td>\n",
       "    </tr>\n",
       "    <tr>\n",
       "      <th>4</th>\n",
       "      <td>12.837885</td>\n",
       "    </tr>\n",
       "    <tr>\n",
       "      <th>...</th>\n",
       "      <td>...</td>\n",
       "    </tr>\n",
       "    <tr>\n",
       "      <th>1991</th>\n",
       "      <td>0.14416</td>\n",
       "    </tr>\n",
       "    <tr>\n",
       "      <th>1992</th>\n",
       "      <td>0.106</td>\n",
       "    </tr>\n",
       "    <tr>\n",
       "      <th>1993</th>\n",
       "      <td>0.636</td>\n",
       "    </tr>\n",
       "    <tr>\n",
       "      <th>1998</th>\n",
       "      <td>1.512</td>\n",
       "    </tr>\n",
       "    <tr>\n",
       "      <th>2003</th>\n",
       "      <td>0.0</td>\n",
       "    </tr>\n",
       "  </tbody>\n",
       "</table>\n",
       "<p>296 rows × 1 columns</p>\n",
       "</div>"
      ],
      "text/plain": [
       "       quantity\n",
       "i              \n",
       "0     15.814413\n",
       "1     15.341537\n",
       "2     14.777681\n",
       "3     13.624776\n",
       "4     12.837885\n",
       "...         ...\n",
       "1991    0.14416\n",
       "1992      0.106\n",
       "1993      0.636\n",
       "1998      1.512\n",
       "2003        0.0\n",
       "\n",
       "[296 rows x 1 columns]"
      ]
     },
     "execution_count": 209,
     "metadata": {},
     "output_type": "execute_result"
    }
   ],
   "source": [
    "first"
   ]
  },
  {
   "cell_type": "code",
   "execution_count": 210,
   "id": "9905e471",
   "metadata": {},
   "outputs": [],
   "source": [
    "holder = pd.DataFrame(0, columns=['quantity'],\n",
    "                               index=first.index.union(second.index))"
   ]
  },
  {
   "cell_type": "code",
   "execution_count": 214,
   "id": "d8ddb836",
   "metadata": {},
   "outputs": [
    {
     "data": {
      "text/plain": [
       "223.21099160233814"
      ]
     },
     "execution_count": 214,
     "metadata": {},
     "output_type": "execute_result"
    }
   ],
   "source": [
    "((holder + first).fillna(0) + second).mean().iloc[0]"
   ]
  },
  {
   "cell_type": "code",
   "execution_count": 187,
   "id": "91aa83b4",
   "metadata": {},
   "outputs": [],
   "source": [
    "\n",
    "new = pd.DataFrame(0, columns=['quantity'],\n",
    "                   index=first.index.union(second.index))"
   ]
  },
  {
   "cell_type": "code",
   "execution_count": 192,
   "id": "dc4d2793",
   "metadata": {},
   "outputs": [
    {
     "data": {
      "text/plain": [
       "Counter({1: 1566,\n",
       "         6: 1508,\n",
       "         5: 1370,\n",
       "         7: 1318,\n",
       "         2: 1185,\n",
       "         3: 1154,\n",
       "         4: 1125,\n",
       "         8: 862,\n",
       "         0: 738,\n",
       "         9: 467,\n",
       "         10: 294,\n",
       "         11: 102,\n",
       "         15: 60,\n",
       "         1991: 50,\n",
       "         13: 46,\n",
       "         14: 43,\n",
       "         12: 42,\n",
       "         16: 31,\n",
       "         50: 31,\n",
       "         20: 30,\n",
       "         41: 28,\n",
       "         65: 27,\n",
       "         19: 26,\n",
       "         17: 24,\n",
       "         18: 24,\n",
       "         57: 23,\n",
       "         305: 23,\n",
       "         55: 22,\n",
       "         51: 21,\n",
       "         64: 21,\n",
       "         42: 21,\n",
       "         46: 21,\n",
       "         54: 19,\n",
       "         21: 18,\n",
       "         73: 18,\n",
       "         40: 18,\n",
       "         47: 18,\n",
       "         44: 17,\n",
       "         63: 16,\n",
       "         45: 16,\n",
       "         43: 16,\n",
       "         75: 15,\n",
       "         48: 15,\n",
       "         22: 15,\n",
       "         49: 14,\n",
       "         59: 14,\n",
       "         52: 14,\n",
       "         24: 14,\n",
       "         53: 14,\n",
       "         58: 13,\n",
       "         67: 13,\n",
       "         35: 13,\n",
       "         66: 13,\n",
       "         62: 12,\n",
       "         25: 12,\n",
       "         115: 12,\n",
       "         74: 11,\n",
       "         56: 11,\n",
       "         68: 11,\n",
       "         34: 11,\n",
       "         27: 11,\n",
       "         23: 10,\n",
       "         84: 10,\n",
       "         61: 9,\n",
       "         28: 9,\n",
       "         71: 9,\n",
       "         76: 9,\n",
       "         38: 9,\n",
       "         32: 8,\n",
       "         26: 8,\n",
       "         70: 8,\n",
       "         1054: 8,\n",
       "         1992: 8,\n",
       "         31: 7,\n",
       "         60: 7,\n",
       "         171: 7,\n",
       "         300: 7,\n",
       "         1990: 7,\n",
       "         29: 6,\n",
       "         36: 6,\n",
       "         30: 6,\n",
       "         1055: 6,\n",
       "         175: 6,\n",
       "         39: 6,\n",
       "         296: 6,\n",
       "         80: 5,\n",
       "         72: 5,\n",
       "         69: 5,\n",
       "         89: 4,\n",
       "         77: 4,\n",
       "         90: 4,\n",
       "         33: 4,\n",
       "         155: 4,\n",
       "         215: 4,\n",
       "         37: 4,\n",
       "         91: 4,\n",
       "         165: 4,\n",
       "         686: 4,\n",
       "         94: 4,\n",
       "         1397: 4,\n",
       "         311: 3,\n",
       "         104: 3,\n",
       "         103: 3,\n",
       "         78: 3,\n",
       "         85: 3,\n",
       "         1398: 3,\n",
       "         121: 2,\n",
       "         1998: 2,\n",
       "         95: 2,\n",
       "         221: 2,\n",
       "         114: 2,\n",
       "         920: 2,\n",
       "         120: 2,\n",
       "         309: 2,\n",
       "         1059: 2,\n",
       "         1401: 2,\n",
       "         79: 2,\n",
       "         897: 2,\n",
       "         307: 2,\n",
       "         203: 2,\n",
       "         283: 2,\n",
       "         411: 2,\n",
       "         427: 2,\n",
       "         435: 2,\n",
       "         207: 2,\n",
       "         105: 2,\n",
       "         1396: 2,\n",
       "         92: 2,\n",
       "         843: 2,\n",
       "         158: 2,\n",
       "         265: 2,\n",
       "         335: 2,\n",
       "         1053: 2,\n",
       "         81: 1,\n",
       "         241: 1,\n",
       "         1061: 1,\n",
       "         271: 1,\n",
       "         1405: 1,\n",
       "         1404: 1,\n",
       "         157: 1,\n",
       "         313: 1,\n",
       "         125: 1,\n",
       "         422: 1,\n",
       "         110: 1,\n",
       "         1403: 1,\n",
       "         1561: 1,\n",
       "         973: 1,\n",
       "         178: 1,\n",
       "         130: 1,\n",
       "         100: 1,\n",
       "         1060: 1,\n",
       "         182: 1,\n",
       "         1058: 1,\n",
       "         107: 1,\n",
       "         123: 1,\n",
       "         139: 1,\n",
       "         187: 1,\n",
       "         219: 1,\n",
       "         235: 1,\n",
       "         251: 1,\n",
       "         267: 1,\n",
       "         299: 1,\n",
       "         315: 1,\n",
       "         331: 1,\n",
       "         347: 1,\n",
       "         363: 1,\n",
       "         379: 1,\n",
       "         395: 1,\n",
       "         443: 1,\n",
       "         459: 1,\n",
       "         475: 1,\n",
       "         491: 1,\n",
       "         507: 1,\n",
       "         523: 1,\n",
       "         195: 1,\n",
       "         88: 1,\n",
       "         108: 1,\n",
       "         1276: 1,\n",
       "         135: 1,\n",
       "         83: 1,\n",
       "         2003: 1,\n",
       "         1524: 1,\n",
       "         615: 1,\n",
       "         415: 1,\n",
       "         172: 1,\n",
       "         297: 1,\n",
       "         515: 1,\n",
       "         109: 1,\n",
       "         113: 1,\n",
       "         715: 1,\n",
       "         112: 1,\n",
       "         131: 1,\n",
       "         140: 1,\n",
       "         149: 1,\n",
       "         167: 1,\n",
       "         176: 1,\n",
       "         185: 1,\n",
       "         194: 1,\n",
       "         212: 1,\n",
       "         230: 1,\n",
       "         239: 1,\n",
       "         248: 1,\n",
       "         257: 1,\n",
       "         274: 1,\n",
       "         292: 1,\n",
       "         318: 1,\n",
       "         326: 1,\n",
       "         343: 1,\n",
       "         352: 1,\n",
       "         360: 1,\n",
       "         369: 1,\n",
       "         377: 1,\n",
       "         386: 1,\n",
       "         394: 1,\n",
       "         402: 1,\n",
       "         419: 1,\n",
       "         436: 1,\n",
       "         444: 1,\n",
       "         452: 1,\n",
       "         460: 1,\n",
       "         468: 1,\n",
       "         476: 1,\n",
       "         485: 1,\n",
       "         493: 1,\n",
       "         501: 1,\n",
       "         509: 1,\n",
       "         517: 1,\n",
       "         525: 1,\n",
       "         533: 1,\n",
       "         541: 1,\n",
       "         549: 1,\n",
       "         556: 1,\n",
       "         564: 1,\n",
       "         572: 1,\n",
       "         580: 1,\n",
       "         588: 1,\n",
       "         596: 1,\n",
       "         603: 1,\n",
       "         611: 1,\n",
       "         619: 1,\n",
       "         626: 1,\n",
       "         634: 1,\n",
       "         642: 1,\n",
       "         649: 1,\n",
       "         657: 1,\n",
       "         664: 1,\n",
       "         672: 1,\n",
       "         679: 1,\n",
       "         687: 1,\n",
       "         694: 1,\n",
       "         702: 1,\n",
       "         709: 1,\n",
       "         717: 1,\n",
       "         724: 1,\n",
       "         731: 1,\n",
       "         739: 1,\n",
       "         746: 1,\n",
       "         753: 1,\n",
       "         761: 1,\n",
       "         768: 1,\n",
       "         775: 1,\n",
       "         96: 1,\n",
       "         1522: 1,\n",
       "         127: 1,\n",
       "         188: 1,\n",
       "         153: 1,\n",
       "         295: 1,\n",
       "         190: 1,\n",
       "         263: 1,\n",
       "         404: 1,\n",
       "         1315: 1,\n",
       "         985: 1,\n",
       "         1815: 1,\n",
       "         214: 1,\n",
       "         1993: 1,\n",
       "         465: 1,\n",
       "         266: 1,\n",
       "         143: 1,\n",
       "         226: 1,\n",
       "         346: 1,\n",
       "         385: 1,\n",
       "         423: 1,\n",
       "         101: 1,\n",
       "         466: 1,\n",
       "         93: 1,\n",
       "         659: 1,\n",
       "         87: 1,\n",
       "         1265: 1,\n",
       "         1465: 1,\n",
       "         1395: 1,\n",
       "         98: 1,\n",
       "         132: 1,\n",
       "         111: 1,\n",
       "         205: 1,\n",
       "         425: 1,\n",
       "         151: 1})"
      ]
     },
     "execution_count": 192,
     "metadata": {},
     "output_type": "execute_result"
    }
   ],
   "source": [
    "c Counter([i[0] for i in e.arrivals.buy])"
   ]
  },
  {
   "cell_type": "code",
   "execution_count": null,
   "id": "7a8fdd15",
   "metadata": {},
   "outputs": [],
   "source": []
  },
  {
   "cell_type": "code",
   "execution_count": null,
   "id": "47c66f96",
   "metadata": {},
   "outputs": [],
   "source": []
  },
  {
   "cell_type": "code",
   "execution_count": 139,
   "id": "6bf25314",
   "metadata": {},
   "outputs": [],
   "source": [
    "Sm = np.mean(e.market_arrivals.undefined)\n",
    "Sl = (pd.DataFrame(e.arrivals.buy).groupby(0).mean() +\n",
    "      pd.DataFrame(e.arrivals.sell).groupby(0).mean()).mean()\n",
    "\n",
    "Sc = (pd.DataFrame(e.cancels.sell).groupby(0).mean() +\n",
    "      pd.DataFrame(e.cancels.buy).groupby(0).mean())\n"
   ]
  },
  {
   "cell_type": "code",
   "execution_count": 153,
   "id": "8d60d509",
   "metadata": {},
   "outputs": [],
   "source": [
    "# pd.DataFrame(e.cancels.sell).groupby(0).mean() \n"
   ]
  },
  {
   "cell_type": "code",
   "execution_count": 135,
   "id": "c5046923",
   "metadata": {},
   "outputs": [
    {
     "data": {
      "text/plain": [
       "Decimal('14.21694730961155265720172994')"
      ]
     },
     "execution_count": 135,
     "metadata": {},
     "output_type": "execute_result"
    }
   ],
   "source": [
    "np.mean(avgs)"
   ]
  },
  {
   "cell_type": "code",
   "execution_count": 138,
   "id": "a7cd6810",
   "metadata": {},
   "outputs": [
    {
     "data": {
      "text/html": [
       "<div>\n",
       "<style scoped>\n",
       "    .dataframe tbody tr th:only-of-type {\n",
       "        vertical-align: middle;\n",
       "    }\n",
       "\n",
       "    .dataframe tbody tr th {\n",
       "        vertical-align: top;\n",
       "    }\n",
       "\n",
       "    .dataframe thead th {\n",
       "        text-align: right;\n",
       "    }\n",
       "</style>\n",
       "<table border=\"1\" class=\"dataframe\">\n",
       "  <thead>\n",
       "    <tr style=\"text-align: right;\">\n",
       "      <th></th>\n",
       "      <th>0</th>\n",
       "      <th>1</th>\n",
       "    </tr>\n",
       "  </thead>\n",
       "  <tbody>\n",
       "    <tr>\n",
       "      <th>0</th>\n",
       "      <td>3</td>\n",
       "      <td>1.20000000</td>\n",
       "    </tr>\n",
       "    <tr>\n",
       "      <th>1</th>\n",
       "      <td>1</td>\n",
       "      <td>0.07100000</td>\n",
       "    </tr>\n",
       "    <tr>\n",
       "      <th>2</th>\n",
       "      <td>1</td>\n",
       "      <td>28.27700000</td>\n",
       "    </tr>\n",
       "    <tr>\n",
       "      <th>3</th>\n",
       "      <td>4</td>\n",
       "      <td>1.57500000</td>\n",
       "    </tr>\n",
       "    <tr>\n",
       "      <th>4</th>\n",
       "      <td>1</td>\n",
       "      <td>9.00000000</td>\n",
       "    </tr>\n",
       "    <tr>\n",
       "      <th>...</th>\n",
       "      <td>...</td>\n",
       "      <td>...</td>\n",
       "    </tr>\n",
       "    <tr>\n",
       "      <th>14022</th>\n",
       "      <td>1</td>\n",
       "      <td>40.21000000</td>\n",
       "    </tr>\n",
       "    <tr>\n",
       "      <th>14023</th>\n",
       "      <td>2</td>\n",
       "      <td>84.67900000</td>\n",
       "    </tr>\n",
       "    <tr>\n",
       "      <th>14024</th>\n",
       "      <td>6</td>\n",
       "      <td>40.21000000</td>\n",
       "    </tr>\n",
       "    <tr>\n",
       "      <th>14025</th>\n",
       "      <td>1</td>\n",
       "      <td>14.62300000</td>\n",
       "    </tr>\n",
       "    <tr>\n",
       "      <th>14026</th>\n",
       "      <td>2</td>\n",
       "      <td>34.20100000</td>\n",
       "    </tr>\n",
       "  </tbody>\n",
       "</table>\n",
       "<p>14027 rows × 2 columns</p>\n",
       "</div>"
      ],
      "text/plain": [
       "       0            1\n",
       "0      3   1.20000000\n",
       "1      1   0.07100000\n",
       "2      1  28.27700000\n",
       "3      4   1.57500000\n",
       "4      1   9.00000000\n",
       "...   ..          ...\n",
       "14022  1  40.21000000\n",
       "14023  2  84.67900000\n",
       "14024  6  40.21000000\n",
       "14025  1  14.62300000\n",
       "14026  2  34.20100000\n",
       "\n",
       "[14027 rows x 2 columns]"
      ]
     },
     "execution_count": 138,
     "metadata": {},
     "output_type": "execute_result"
    }
   ],
   "source": [
    "pd.DataFrame(e.cancels.buy)"
   ]
  },
  {
   "cell_type": "code",
   "execution_count": null,
   "id": "c0c3499a",
   "metadata": {},
   "outputs": [],
   "source": []
  },
  {
   "cell_type": "code",
   "execution_count": null,
   "id": "e626ad70",
   "metadata": {},
   "outputs": [],
   "source": []
  },
  {
   "cell_type": "code",
   "execution_count": null,
   "id": "fb71c7f7",
   "metadata": {},
   "outputs": [],
   "source": []
  }
 ],
 "metadata": {
  "kernelspec": {
   "display_name": "Python 3 (ipykernel)",
   "language": "python",
   "name": "python3"
  },
  "language_info": {
   "codemirror_mode": {
    "name": "ipython",
    "version": 3
   },
   "file_extension": ".py",
   "mimetype": "text/x-python",
   "name": "python",
   "nbconvert_exporter": "python",
   "pygments_lexer": "ipython3",
   "version": "3.10.10"
  }
 },
 "nbformat": 4,
 "nbformat_minor": 5
}
