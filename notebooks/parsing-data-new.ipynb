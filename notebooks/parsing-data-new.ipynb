{
 "cells": [
  {
   "cell_type": "code",
   "execution_count": 70,
   "id": "d7c26709",
   "metadata": {},
   "outputs": [],
   "source": [
    "import json\n",
    "import numpy as np\n",
    "import pandas as pd\n",
    "import datetime as dt\n",
    "from pathlib import Path\n",
    "from tqdm.notebook import tqdm\n",
    "import matplotlib.pyplot as plt\n",
    "from scipy.stats import pearsonr\n",
    "from order_book import OrderBook\n",
    "from probs import MidpriceUp, BidOrderExecution, MakingSpread, StopLossReaching"
   ]
  },
  {
   "cell_type": "code",
   "execution_count": 34,
   "id": "7ec19226",
   "metadata": {},
   "outputs": [],
   "source": [
    "data_path = Path('../data')"
   ]
  },
  {
   "cell_type": "markdown",
   "id": "7821e1c8",
   "metadata": {},
   "source": [
    "### How much data we have"
   ]
  },
  {
   "cell_type": "code",
   "execution_count": 35,
   "id": "517ca002",
   "metadata": {},
   "outputs": [],
   "source": [
    "files = []\n",
    "for fname in data_path.glob('*ws*'):\n",
    "    group = fname.name.split('.')[0]\n",
    "    files.append((group,  fname.stat().st_size / 1024**2))\n",
    "    \n",
    "files = pd.DataFrame(files, columns=['exchange', 'size'])"
   ]
  },
  {
   "cell_type": "code",
   "execution_count": 36,
   "id": "f81ed6e7",
   "metadata": {},
   "outputs": [
    {
     "data": {
      "text/html": [
       "<div>\n",
       "<style scoped>\n",
       "    .dataframe tbody tr th:only-of-type {\n",
       "        vertical-align: middle;\n",
       "    }\n",
       "\n",
       "    .dataframe tbody tr th {\n",
       "        vertical-align: top;\n",
       "    }\n",
       "\n",
       "    .dataframe thead th {\n",
       "        text-align: right;\n",
       "    }\n",
       "</style>\n",
       "<table border=\"1\" class=\"dataframe\">\n",
       "  <thead>\n",
       "    <tr style=\"text-align: right;\">\n",
       "      <th></th>\n",
       "      <th>size</th>\n",
       "    </tr>\n",
       "    <tr>\n",
       "      <th>exchange</th>\n",
       "      <th></th>\n",
       "    </tr>\n",
       "  </thead>\n",
       "  <tbody>\n",
       "    <tr>\n",
       "      <th>BINANCE</th>\n",
       "      <td>45.595689</td>\n",
       "    </tr>\n",
       "    <tr>\n",
       "      <th>BYBIT</th>\n",
       "      <td>140.150953</td>\n",
       "    </tr>\n",
       "    <tr>\n",
       "      <th>HUOBI</th>\n",
       "      <td>54.938227</td>\n",
       "    </tr>\n",
       "  </tbody>\n",
       "</table>\n",
       "</div>"
      ],
      "text/plain": [
       "                size\n",
       "exchange            \n",
       "BINANCE    45.595689\n",
       "BYBIT     140.150953\n",
       "HUOBI      54.938227"
      ]
     },
     "execution_count": 36,
     "metadata": {},
     "output_type": "execute_result"
    }
   ],
   "source": [
    "files.groupby('exchange').sum() / 1024  # in gb's"
   ]
  },
  {
   "cell_type": "markdown",
   "id": "cc2f49aa",
   "metadata": {},
   "source": [
    "### What data is about"
   ]
  },
  {
   "cell_type": "code",
   "execution_count": 37,
   "id": "f5b3f5ce",
   "metadata": {},
   "outputs": [],
   "source": [
    "binance = data_path.glob('BINANCE*')\n",
    "bybit = data_path.glob('BYBIT*')\n",
    "huobi = data_path.glob('HUOOBI*')"
   ]
  },
  {
   "cell_type": "markdown",
   "id": "244b495e",
   "metadata": {},
   "source": [
    "#### binance"
   ]
  },
  {
   "cell_type": "code",
   "execution_count": 38,
   "id": "42d64b5d",
   "metadata": {},
   "outputs": [],
   "source": [
    "for file in binance:    \n",
    "    with open(file, 'r') as f:\n",
    "        rows = f.readlines()\n",
    "    \n",
    "    break"
   ]
  },
  {
   "cell_type": "code",
   "execution_count": null,
   "id": "3aca58d5",
   "metadata": {},
   "outputs": [],
   "source": []
  },
  {
   "cell_type": "code",
   "execution_count": 63,
   "id": "53caa541",
   "metadata": {},
   "outputs": [],
   "source": [
    "a = b'\\x1f\\x8b\\x08\\x00\\x00\\x00\\x00\\x00\\x00\\x00\\r\\x8aA\\n\\x80 \\x14\\x05\\xef\\xf2\\xd6!f`\\xe2m\\x0c?\\x18\\x12I\\xff\\xb9\\x8a\\xee\\xde_\\xccb\\x98yqV\\xe4\\xb0@Y8\\x15\\x19w\\x87\\xd9<\\x0e\\xb1\\x80\\xab<]\\xe8\\x84mj\\xa5\\xab2\\xd8\\x9cR\\x86\\xb7\\x8b\\xf6\\xaf1\\xf9=\\x19[\\x8a\\xe1\\xfb\\x01\\x11h\\xaf\\xcaO\\x00\\x00\\x00'"
   ]
  },
  {
   "cell_type": "code",
   "execution_count": 69,
   "id": "53d1079f",
   "metadata": {},
   "outputs": [
    {
     "ename": "UnicodeDecodeError",
     "evalue": "'utf-8' codec can't decode byte 0x8b in position 1: invalid start byte",
     "output_type": "error",
     "traceback": [
      "\u001b[0;31m---------------------------------------------------------------------------\u001b[0m",
      "\u001b[0;31mUnicodeDecodeError\u001b[0m                        Traceback (most recent call last)",
      "Cell \u001b[0;32mIn[69], line 2\u001b[0m\n\u001b[1;32m      1\u001b[0m \u001b[38;5;28;01mimport\u001b[39;00m \u001b[38;5;21;01mcodecs\u001b[39;00m\n\u001b[0;32m----> 2\u001b[0m \u001b[43mcodecs\u001b[49m\u001b[38;5;241;43m.\u001b[39;49m\u001b[43mdecode\u001b[49m\u001b[43m(\u001b[49m\u001b[43ma\u001b[49m\u001b[43m)\u001b[49m\n",
      "File \u001b[0;32m/usr/lib/python3.8/encodings/utf_8.py:16\u001b[0m, in \u001b[0;36mdecode\u001b[0;34m(input, errors)\u001b[0m\n\u001b[1;32m     15\u001b[0m \u001b[38;5;28;01mdef\u001b[39;00m \u001b[38;5;21mdecode\u001b[39m(\u001b[38;5;28minput\u001b[39m, errors\u001b[38;5;241m=\u001b[39m\u001b[38;5;124m'\u001b[39m\u001b[38;5;124mstrict\u001b[39m\u001b[38;5;124m'\u001b[39m):\n\u001b[0;32m---> 16\u001b[0m     \u001b[38;5;28;01mreturn\u001b[39;00m \u001b[43mcodecs\u001b[49m\u001b[38;5;241;43m.\u001b[39;49m\u001b[43mutf_8_decode\u001b[49m\u001b[43m(\u001b[49m\u001b[38;5;28;43minput\u001b[39;49m\u001b[43m,\u001b[49m\u001b[43m \u001b[49m\u001b[43merrors\u001b[49m\u001b[43m,\u001b[49m\u001b[43m \u001b[49m\u001b[38;5;28;43;01mTrue\u001b[39;49;00m\u001b[43m)\u001b[49m\n",
      "\u001b[0;31mUnicodeDecodeError\u001b[0m: 'utf-8' codec can't decode byte 0x8b in position 1: invalid start byte"
     ]
    }
   ],
   "source": [
    "import codecs\n",
    "codecs.decode(a)\n"
   ]
  },
  {
   "cell_type": "code",
   "execution_count": 54,
   "id": "7a6cc59c",
   "metadata": {},
   "outputs": [
    {
     "data": {
      "text/plain": [
       "b\"b'\\x1f\\xc2\\x8b\\x08\\x00\\x00\\x00\\x00\\x00\\x00\\x00\\r\\xc2\\x8aA\\n\\xc2\\x80\""
      ]
     },
     "execution_count": 54,
     "metadata": {},
     "output_type": "execute_result"
    }
   ],
   "source": [
    "a.encode(encoding='utf-8')"
   ]
  },
  {
   "cell_type": "code",
   "execution_count": 44,
   "id": "ce00362e",
   "metadata": {},
   "outputs": [
    {
     "ename": "AttributeError",
     "evalue": "'str' object has no attribute 'decode'",
     "output_type": "error",
     "traceback": [
      "\u001b[0;31m---------------------------------------------------------------------------\u001b[0m",
      "\u001b[0;31mAttributeError\u001b[0m                            Traceback (most recent call last)",
      "Cell \u001b[0;32mIn[44], line 1\u001b[0m\n\u001b[0;32m----> 1\u001b[0m \u001b[43ma\u001b[49m\u001b[38;5;241;43m.\u001b[39;49m\u001b[43mdecode\u001b[49m()\n",
      "\u001b[0;31mAttributeError\u001b[0m: 'str' object has no attribute 'decode'"
     ]
    }
   ],
   "source": []
  },
  {
   "cell_type": "code",
   "execution_count": null,
   "id": "d186448b",
   "metadata": {},
   "outputs": [],
   "source": []
  }
 ],
 "metadata": {
  "kernelspec": {
   "display_name": "Python 3 (ipykernel)",
   "language": "python",
   "name": "python3"
  },
  "language_info": {
   "codemirror_mode": {
    "name": "ipython",
    "version": 3
   },
   "file_extension": ".py",
   "mimetype": "text/x-python",
   "name": "python",
   "nbconvert_exporter": "python",
   "pygments_lexer": "ipython3",
   "version": "3.8.10"
  }
 },
 "nbformat": 4,
 "nbformat_minor": 5
}
